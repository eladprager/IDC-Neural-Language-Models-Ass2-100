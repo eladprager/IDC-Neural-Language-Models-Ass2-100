{
  "cells": [
    {
      "cell_type": "markdown",
      "id": "b8abfc24",
      "metadata": {
        "id": "b8abfc24"
      },
      "source": [
        "##### Information-theretic analysis of language models (Fall 2022/3)\n",
        "\n",
        "\n",
        "# Home Assignment 2\n",
        "\n",
        "#### Topics:\n",
        "- Lossless compression\n",
        "\n",
        "#### Due: 14/12/2022 before the class\n",
        "\n",
        "#### Instructions:\n",
        "- Write your name, Student ID, and date in the cell below. \n",
        "- Submit a copy of this notebook with code filled in the relevant places as the solution of coding excercises.\n",
        "- For theoretic excercises, you can either write your solution in the notebook using $\\LaTeX$ or submit additional notes.\n",
        "\n",
        "<hr>\n",
        "<hr>"
      ]
    },
    {
      "cell_type": "markdown",
      "id": "b4b617df",
      "metadata": {
        "id": "b4b617df"
      },
      "source": [
        "\n",
        "**Name**: Elad Prager \n",
        "\n",
        "**Student ID**: 200865780\n",
        "\n",
        "**Date**: 18/12/22\n",
        "\n",
        "$\n",
        "\\newcommand{\\Id}{{\\mathbf{I}}}  \n",
        "\\newcommand{\\SSE}{\\mathsf{SSE}}\n",
        "\\newcommand{\\SSR}{\\mathsf{SSR}}\n",
        "\\newcommand{\\MSE}{\\mathsf{MSE}}\n",
        "\\newcommand{\\simiid}{\\overset{iid}{\\sim}}\n",
        "\\newcommand{\\ex}{\\mathbb E}\n",
        "\\newcommand{\\var}{\\mathrm{Var}}\n",
        "\\newcommand{\\Cov}[2]{{\\mathrm{Cov}  \\left(#1, #2 \\right)}}\n",
        "\\newcommand{\\one}[1]{\\mathbf 1 {\\left\\{#1\\right\\}}}\n",
        "\\newcommand{\\SE}[1]{\\mathrm{SE} \\left[#1\\right]}\n",
        "\\newcommand{\\reals}{\\mathbb R}\n",
        "\\newcommand{\\Ncal}{\\mathcal N}\n",
        "\\newcommand{\\abs}[1]{\\ensuremath{\\left\\vert#1\\right\\vert}}\n",
        "\\newcommand{\\rank}{\\operatorname{rank}}\n",
        "\\newcommand{\\tr}{\\operatorname{Tr}}\n",
        "\\newcommand{\\diag}{\\operatorname{diag}}\n",
        "\\newcommand{\\sign}{\\operatorname{sign}}\n",
        "\\newcommand{\\Ycal}{\\mathcal Y}\n",
        "\\newcommand{\\Xcal}{\\mathcal X}\n",
        "\\newcommand{\\Zcal}{\\mathcal Z}\n",
        "\\newcommand{\\Wcal}{\\mathcal W}\n",
        "$\n"
      ]
    },
    {
      "cell_type": "markdown",
      "id": "1f37afb5",
      "metadata": {
        "id": "1f37afb5"
      },
      "source": [
        "## 1. Compressing a Markov Source\n",
        "In this question you will sample a sequence from a two-states Markov source and compress this sequence in a losslessly manner using several methods. The function ``sample_Markov_path`` below samples such a sequence. \n",
        "\n",
        "Use the transition matrix \n",
        "$$\n",
        "Q = \\begin{bmatrix} 1-\\alpha & \\alpha \\\\\n",
        "\\beta & 1- \\beta\n",
        "\\end{bmatrix}\n",
        "$$\n",
        "and vector of initial probabilities $\\begin{bmatrix} 1, 0 \\end{bmatrix}$ (namely, you begin at state $0$). \n"
      ]
    },
    {
      "cell_type": "code",
      "execution_count": 1,
      "id": "6b1478d7",
      "metadata": {
        "id": "6b1478d7"
      },
      "outputs": [],
      "source": [
        "YOUR_ID_HERE = 200865780"
      ]
    },
    {
      "cell_type": "code",
      "execution_count": 2,
      "id": "0d7344bd",
      "metadata": {
        "id": "0d7344bd",
        "colab": {
          "base_uri": "https://localhost:8080/"
        },
        "outputId": "3a80c7ae-0bf8-4610-a64c-53f6450fa41b"
      },
      "outputs": [
        {
          "output_type": "stream",
          "name": "stdout",
          "text": [
            "Looking in indexes: https://pypi.org/simple, https://us-python.pkg.dev/colab-wheels/public/simple/\n",
            "Requirement already satisfied: dahuffman in /usr/local/lib/python3.8/dist-packages (0.4.1)\n"
          ]
        }
      ],
      "source": [
        "!pip install dahuffman\n",
        "import pandas as pd\n",
        "import numpy as np\n",
        "from scipy.stats import multinomial\n",
        "from matplotlib import pyplot as plt\n",
        "from dahuffman import HuffmanCodec\n",
        "\n",
        "SEED = YOUR_ID_HERE\n",
        "\n",
        "def sample_Markov_path(Q: np.ndarray, initial_probs: np.ndarray, n: int)->np.ndarray:\n",
        "    \"\"\"\n",
        "    Sample from a path from a Markov chain\n",
        "    \n",
        "    Args:\n",
        "        :Q:  transition probability matrix\n",
        "        :initial_probs:  vector of probabilities of the initial state\n",
        "        :n:  length of path\n",
        "    \n",
        "    Return:\n",
        "        :xx:  sample from the Markov chain of length n\n",
        "        \n",
        "    \"\"\"\n",
        "\n",
        "    M = Q.shape[0]\n",
        "    xx = np.zeros((n,M))\n",
        "\n",
        "    prob_vec = initial_probs\n",
        "\n",
        "    for i in range(n):\n",
        "        xx[i] = multinomial.rvs(p=prob_vec, n=1, random_state=SEED+i)\n",
        "        prob_vec = xx[i] @ Q\n",
        "\n",
        "    return np.argmax(xx, 1)\n",
        "\n"
      ]
    },
    {
      "cell_type": "code",
      "source": [
        "alpha = 0.1\n",
        "beta = 0.05\n",
        "\n",
        "Q = np.array([\n",
        "    [1-alpha, alpha],\n",
        "    [beta, 1-beta] \n",
        "])\n",
        "\n",
        "initial_probs = [1, 0]  # start at state 0\n",
        "X = sample_Markov_path(Q, initial_probs, n = 100)\n",
        "\n",
        "print(X)"
      ],
      "metadata": {
        "colab": {
          "base_uri": "https://localhost:8080/"
        },
        "id": "4OSXIXpTeh6E",
        "outputId": "385df8f5-9d0a-4efa-c49d-b4e76019c530"
      },
      "id": "4OSXIXpTeh6E",
      "execution_count": 3,
      "outputs": [
        {
          "output_type": "stream",
          "name": "stdout",
          "text": [
            "[0 0 0 1 1 1 1 1 1 1 1 1 1 1 1 1 1 1 1 1 1 1 1 1 0 0 1 1 1 1 1 1 1 0 0 0 0\n",
            " 0 0 0 0 0 0 0 0 0 0 0 1 1 0 0 0 0 1 1 1 1 1 1 1 0 0 0 0 0 0 0 0 0 0 0 0 1\n",
            " 1 1 1 1 1 1 1 1 1 1 1 1 1 1 1 1 1 1 1 1 1 1 1 1 1 1]\n"
          ]
        }
      ]
    },
    {
      "cell_type": "markdown",
      "id": "78e03eb1",
      "metadata": {
        "id": "78e03eb1"
      },
      "source": [
        "(1) For this chain, find its stationary distribution and the entropy rate. Is the entropy rate smaller or larger than the entropy of the stationary distribution?"
      ]
    },
    {
      "cell_type": "code",
      "source": [
        "def h2(p):\n",
        "    return -p * np.log2(p) - (1-p) * np.log2(1-p)\n",
        "\n",
        "mu = np.array([beta/(alpha+beta), alpha/(alpha+beta), ])\n",
        "entropy_rate = round(mu @ np.array([h2(alpha), h2(beta)]),3)\n",
        "\n",
        "print(\"Empirical distribution of P(x=1): \", X.mean(0))\n",
        "print(\"Empirical distribution of P(x=0): \", 1-X.mean(0))\n",
        "print('-----------------------------------------------------')\n",
        "print(\"Statioanry distribution of P(x=1): \", round(mu[1],3))\n",
        "print(\"Statioanry distribution of P(x=0): \", round(mu[0],3))\n",
        "print('-----------------------------------------------------')\n",
        "print(\"Entropy of the statioanry distribution: \", round(h2(beta/(alpha+beta)),3))\n",
        "print(\"Entropy Sanity check: \", round(h2(alpha/(alpha+beta)),3))\n",
        "print('-----------------------------------------------------')\n",
        "print(\"Entropy rate of the statioanry distribution: \", entropy_rate)"
      ],
      "metadata": {
        "colab": {
          "base_uri": "https://localhost:8080/"
        },
        "id": "Dm3Vw5sxatJF",
        "outputId": "c8755012-0da9-42f8-98b3-5fbf0a0d9422"
      },
      "id": "Dm3Vw5sxatJF",
      "execution_count": 4,
      "outputs": [
        {
          "output_type": "stream",
          "name": "stdout",
          "text": [
            "Empirical distribution of P(x=1):  0.64\n",
            "Empirical distribution of P(x=0):  0.36\n",
            "-----------------------------------------------------\n",
            "Statioanry distribution of P(x=1):  0.667\n",
            "Statioanry distribution of P(x=0):  0.333\n",
            "-----------------------------------------------------\n",
            "Entropy of the statioanry distribution:  0.918\n",
            "Entropy Sanity check:  0.918\n",
            "-----------------------------------------------------\n",
            "Entropy rate of the statioanry distribution:  0.347\n"
          ]
        }
      ]
    },
    {
      "cell_type": "markdown",
      "source": [
        "**I've recived the following results: <br> Statioanry distribution of P(x=1):  0.667 <br> Statioanry distribution of P(x=0):  0.333 <br> Entropy of the statioanry distribution:  0.918 <br> Entropy rate of the statioanry distribution:  0.347 <br> <br> As we can see, the entropy rate is smaller than the entropy of the stationary distribution**"
      ],
      "metadata": {
        "id": "94ECUYbwWo1Q"
      },
      "id": "94ECUYbwWo1Q"
    },
    {
      "cell_type": "markdown",
      "id": "825f7b09",
      "metadata": {
        "id": "825f7b09"
      },
      "source": [
        "(2) Set the ``SEED`` as your id number. With $\\alpha=.1$ and $\\beta=.05$, generate a binary string of length $n=2^{14}$ from this soruce (using the function ``sample_Markov_path``). What is the fraction of times you spend at each state? verify that this fraction matched more or less the stationary distribution. "
      ]
    },
    {
      "cell_type": "markdown",
      "id": "5010e83c",
      "metadata": {
        "id": "5010e83c"
      },
      "source": [
        "A short sample from the Markov chain (set $n = 2^{14}$ when solving the assignment):"
      ]
    },
    {
      "cell_type": "code",
      "source": [
        "binary_length = 2**14\n",
        "X = sample_Markov_path(Q, initial_probs, n = binary_length)\n",
        "print(\"First 100 symbols:\")\n",
        "print(X[:100])"
      ],
      "metadata": {
        "colab": {
          "base_uri": "https://localhost:8080/"
        },
        "id": "_khf5VNQB3p2",
        "outputId": "904f0570-2d9f-477c-bb8c-64b4d5c2e7b7"
      },
      "id": "_khf5VNQB3p2",
      "execution_count": 5,
      "outputs": [
        {
          "output_type": "stream",
          "name": "stdout",
          "text": [
            "First 100 symbols:\n",
            "[0 0 0 1 1 1 1 1 1 1 1 1 1 1 1 1 1 1 1 1 1 1 1 1 0 0 1 1 1 1 1 1 1 0 0 0 0\n",
            " 0 0 0 0 0 0 0 0 0 0 0 1 1 0 0 0 0 1 1 1 1 1 1 1 0 0 0 0 0 0 0 0 0 0 0 0 1\n",
            " 1 1 1 1 1 1 1 1 1 1 1 1 1 1 1 1 1 1 1 1 1 1 1 1 1 1]\n"
          ]
        }
      ]
    },
    {
      "cell_type": "code",
      "source": [
        "len(X)"
      ],
      "metadata": {
        "colab": {
          "base_uri": "https://localhost:8080/"
        },
        "id": "xP2i6JDUeRrs",
        "outputId": "51e055c4-3f88-47a5-8fa0-e54c71217719"
      },
      "id": "xP2i6JDUeRrs",
      "execution_count": 6,
      "outputs": [
        {
          "output_type": "execute_result",
          "data": {
            "text/plain": [
              "16384"
            ]
          },
          "metadata": {},
          "execution_count": 6
        }
      ]
    },
    {
      "cell_type": "code",
      "source": [
        "plt.rcParams[\"figure.figsize\"] = (5,3)"
      ],
      "metadata": {
        "id": "ID9gI88Rcdpc"
      },
      "id": "ID9gI88Rcdpc",
      "execution_count": 7,
      "outputs": []
    },
    {
      "cell_type": "code",
      "source": [
        "zeros = (X == 0).sum()\n",
        "ones = (X == 1).sum()\n",
        "\n",
        "zeros_freq = round(zeros/(zeros+ones),3)\n",
        "ones_freq = round(ones/(zeros+ones),3)\n",
        "\n",
        "print(f\"fraction of times spend at the zero state: {zeros_freq}\")\n",
        "print(f\"fraction of times spend at the one state: {ones_freq}\")\n",
        "print('------------------------------------------------------------------------------------')\n",
        "print(f\"diff between that fraction to the stationary distribution for the zero state: {round(zeros_freq-mu[0],2)}\")\n",
        "print(f\"diff between that fraction to the stationary distribution for the one state: {round(ones_freq-mu[1],2)}\\n\")\n",
        "\n",
        "labels = ['0','1']\n",
        "values = [zeros, ones]\n",
        "\n",
        "plt.bar(labels, values)\n",
        "plt.show()"
      ],
      "metadata": {
        "colab": {
          "base_uri": "https://localhost:8080/",
          "height": 315
        },
        "id": "c7x_ouRxZBHO",
        "outputId": "1d11fe4d-c2b1-4db4-e682-6d960c32bdad"
      },
      "id": "c7x_ouRxZBHO",
      "execution_count": 8,
      "outputs": [
        {
          "output_type": "stream",
          "name": "stdout",
          "text": [
            "fraction of times spend at the zero state: 0.341\n",
            "fraction of times spend at the one state: 0.659\n",
            "------------------------------------------------------------------------------------\n",
            "diff between that fraction to the stationary distribution for the zero state: 0.01\n",
            "diff between that fraction to the stationary distribution for the one state: -0.01\n",
            "\n"
          ]
        },
        {
          "output_type": "display_data",
          "data": {
            "text/plain": [
              "<Figure size 360x216 with 1 Axes>"
            ],
            "image/png": "[encoded data removed]"
          },
          "metadata": {
            "needs_background": "light"
          }
        }
      ]
    },
    {
      "cell_type": "markdown",
      "source": [
        "**I've recived the following results: <br> fraction of times spend at the zero state: 0.341 <br> fraction of times spend at the one state: 0.659 <br> <br> As we can see from the difference, the fraction matched more or less to the stationary distribution.**"
      ],
      "metadata": {
        "id": "PnAnhoplhW6U"
      },
      "id": "PnAnhoplhW6U"
    },
    {
      "cell_type": "markdown",
      "id": "a31f6f48",
      "metadata": {
        "id": "a31f6f48"
      },
      "source": [
        "(3) Compress the binary string using a Huffman code for tuples of 8 symbols (one byte), i.e., consider the tensorized source with $K=8$. Estimate tuple frequenceies either from the data or directly from the model. Plot the frequencies of the $2^K$ tuples. Can you anticipate the compression rate (``bits_compressed`` / ``bits_original``) without actually do the encoding?  "
      ]
    },
    {
      "cell_type": "code",
      "source": [
        "n=8\n",
        "tuples = np.array([int(str(X[idx:idx + n])[1:-1].replace(\" \",\"\"),2) for idx in range(0, len(X), n)])\n",
        "binary_tuples = np.array([str(X[idx:idx + n])[1:-1].replace(\" \",\"\") for idx in range(0, len(X), n)])"
      ],
      "metadata": {
        "id": "Ia47AQ2HE2MC"
      },
      "id": "Ia47AQ2HE2MC",
      "execution_count": 9,
      "outputs": []
    },
    {
      "cell_type": "code",
      "source": [
        "len(tuples)"
      ],
      "metadata": {
        "colab": {
          "base_uri": "https://localhost:8080/"
        },
        "id": "I4XNCfR2esGG",
        "outputId": "cf662ed0-bcd3-4f5d-e379-efb71bb88fb4"
      },
      "id": "I4XNCfR2esGG",
      "execution_count": 10,
      "outputs": [
        {
          "output_type": "execute_result",
          "data": {
            "text/plain": [
              "2048"
            ]
          },
          "metadata": {},
          "execution_count": 10
        }
      ]
    },
    {
      "cell_type": "code",
      "source": [
        "binary_tuples[:10]"
      ],
      "metadata": {
        "colab": {
          "base_uri": "https://localhost:8080/"
        },
        "id": "5VN-QQYHdwGj",
        "outputId": "27c45bf4-69d1-41d2-afbf-b1eba6fcffce"
      },
      "id": "5VN-QQYHdwGj",
      "execution_count": 11,
      "outputs": [
        {
          "output_type": "execute_result",
          "data": {
            "text/plain": [
              "array(['00011111', '11111111', '11111111', '00111111', '10000000',\n",
              "       '00000000', '11000011', '11111000', '00000000', '01111111'],\n",
              "      dtype='<U8')"
            ]
          },
          "metadata": {},
          "execution_count": 11
        }
      ]
    },
    {
      "cell_type": "code",
      "source": [
        "tuples[:10]"
      ],
      "metadata": {
        "colab": {
          "base_uri": "https://localhost:8080/"
        },
        "id": "D8BS28Q1tYQH",
        "outputId": "4553f11d-1cd1-4923-81fe-17a8323170b9"
      },
      "id": "D8BS28Q1tYQH",
      "execution_count": 12,
      "outputs": [
        {
          "output_type": "execute_result",
          "data": {
            "text/plain": [
              "array([ 31, 255, 255,  63, 128,   0, 195, 248,   0, 127])"
            ]
          },
          "metadata": {},
          "execution_count": 12
        }
      ]
    },
    {
      "cell_type": "code",
      "source": [
        "type(tuples[0])"
      ],
      "metadata": {
        "colab": {
          "base_uri": "https://localhost:8080/"
        },
        "id": "z2O-FpMBfTM0",
        "outputId": "6fe24512-af46-4059-db44-435cae806ffe"
      },
      "id": "z2O-FpMBfTM0",
      "execution_count": 13,
      "outputs": [
        {
          "output_type": "execute_result",
          "data": {
            "text/plain": [
              "numpy.int64"
            ]
          },
          "metadata": {},
          "execution_count": 13
        }
      ]
    },
    {
      "cell_type": "code",
      "source": [
        "def count_tuples(tuples):\n",
        "  counts = dict()\n",
        "  for i in tuples:\n",
        "    counts[i] = counts.get(i, 0) + 1\n",
        "  return counts"
      ],
      "metadata": {
        "id": "icN8Y3dGtZg-"
      },
      "id": "icN8Y3dGtZg-",
      "execution_count": 14,
      "outputs": []
    },
    {
      "cell_type": "code",
      "source": [
        "counts = count_tuples(tuples)"
      ],
      "metadata": {
        "id": "6eIB3fvbeg-J"
      },
      "id": "6eIB3fvbeg-J",
      "execution_count": 15,
      "outputs": []
    },
    {
      "cell_type": "code",
      "source": [
        "binary_counts = count_tuples(binary_tuples)"
      ],
      "metadata": {
        "id": "VcRvOJXOeg7E"
      },
      "id": "VcRvOJXOeg7E",
      "execution_count": 16,
      "outputs": []
    },
    {
      "cell_type": "code",
      "source": [
        "counts_df = pd.DataFrame(counts.items(), columns=['decimal', 'count'])\n",
        "counts_df['binary'] = binary_counts.keys()\n",
        "counts_df['freq'] = counts_df['count'] / counts_df['count'].sum()\n",
        "counts_df = counts_df.sort_values(by=['freq'],ascending=False)\n",
        "counts_df"
      ],
      "metadata": {
        "colab": {
          "base_uri": "https://localhost:8080/",
          "height": 424
        },
        "id": "Ksp6WLHDx259",
        "outputId": "6a89a0a7-61e4-40fd-a288-46b923d1566b"
      },
      "id": "Ksp6WLHDx259",
      "execution_count": 17,
      "outputs": [
        {
          "output_type": "execute_result",
          "data": {
            "text/plain": [
              "    decimal  count    binary      freq\n",
              "1       255    944  11111111  0.460938\n",
              "4         0    331  00000000  0.161621\n",
              "14      240     57  11110000  0.027832\n",
              "16       15     53  00001111  0.025879\n",
              "9       254     51  11111110  0.024902\n",
              "..      ...    ...       ...       ...\n",
              "38      152      1  10011000  0.000488\n",
              "52      220      1  11011100  0.000488\n",
              "51       30      1  00011110  0.000488\n",
              "49       27      1  00011011  0.000488\n",
              "72       24      1  00011000  0.000488\n",
              "\n",
              "[73 rows x 4 columns]"
            ],
            "text/html": [
              "\n",
              "  <div id=\"df-3aa32d3a-1dee-43e2-b7c1-1887a0e4c91e\">\n",
              "    <div class=\"colab-df-container\">\n",
              "      <div>\n",
              "<style scoped>\n",
              "    .dataframe tbody tr th:only-of-type {\n",
              "        vertical-align: middle;\n",
              "    }\n",
              "\n",
              "    .dataframe tbody tr th {\n",
              "        vertical-align: top;\n",
              "    }\n",
              "\n",
              "    .dataframe thead th {\n",
              "        text-align: right;\n",
              "    }\n",
              "</style>\n",
              "<table border=\"1\" class=\"dataframe\">\n",
              "  <thead>\n",
              "    <tr style=\"text-align: right;\">\n",
              "      <th></th>\n",
              "      <th>decimal</th>\n",
              "      <th>count</th>\n",
              "      <th>binary</th>\n",
              "      <th>freq</th>\n",
              "    </tr>\n",
              "  </thead>\n",
              "  <tbody>\n",
              "    <tr>\n",
              "      <th>1</th>\n",
              "      <td>255</td>\n",
              "      <td>944</td>\n",
              "      <td>11111111</td>\n",
              "      <td>0.460938</td>\n",
              "    </tr>\n",
              "    <tr>\n",
              "      <th>4</th>\n",
              "      <td>0</td>\n",
              "      <td>331</td>\n",
              "      <td>00000000</td>\n",
              "      <td>0.161621</td>\n",
              "    </tr>\n",
              "    <tr>\n",
              "      <th>14</th>\n",
              "      <td>240</td>\n",
              "      <td>57</td>\n",
              "      <td>11110000</td>\n",
              "      <td>0.027832</td>\n",
              "    </tr>\n",
              "    <tr>\n",
              "      <th>16</th>\n",
              "      <td>15</td>\n",
              "      <td>53</td>\n",
              "      <td>00001111</td>\n",
              "      <td>0.025879</td>\n",
              "    </tr>\n",
              "    <tr>\n",
              "      <th>9</th>\n",
              "      <td>254</td>\n",
              "      <td>51</td>\n",
              "      <td>11111110</td>\n",
              "      <td>0.024902</td>\n",
              "    </tr>\n",
              "    <tr>\n",
              "      <th>...</th>\n",
              "      <td>...</td>\n",
              "      <td>...</td>\n",
              "      <td>...</td>\n",
              "      <td>...</td>\n",
              "    </tr>\n",
              "    <tr>\n",
              "      <th>38</th>\n",
              "      <td>152</td>\n",
              "      <td>1</td>\n",
              "      <td>10011000</td>\n",
              "      <td>0.000488</td>\n",
              "    </tr>\n",
              "    <tr>\n",
              "      <th>52</th>\n",
              "      <td>220</td>\n",
              "      <td>1</td>\n",
              "      <td>11011100</td>\n",
              "      <td>0.000488</td>\n",
              "    </tr>\n",
              "    <tr>\n",
              "      <th>51</th>\n",
              "      <td>30</td>\n",
              "      <td>1</td>\n",
              "      <td>00011110</td>\n",
              "      <td>0.000488</td>\n",
              "    </tr>\n",
              "    <tr>\n",
              "      <th>49</th>\n",
              "      <td>27</td>\n",
              "      <td>1</td>\n",
              "      <td>00011011</td>\n",
              "      <td>0.000488</td>\n",
              "    </tr>\n",
              "    <tr>\n",
              "      <th>72</th>\n",
              "      <td>24</td>\n",
              "      <td>1</td>\n",
              "      <td>00011000</td>\n",
              "      <td>0.000488</td>\n",
              "    </tr>\n",
              "  </tbody>\n",
              "</table>\n",
              "<p>73 rows × 4 columns</p>\n",
              "</div>\n",
              "      <button class=\"colab-df-convert\" onclick=\"convertToInteractive('df-3aa32d3a-1dee-43e2-b7c1-1887a0e4c91e')\"\n",
              "              title=\"Convert this dataframe to an interactive table.\"\n",
              "              style=\"display:none;\">\n",
              "        \n",
              "  <svg xmlns=\"http://www.w3.org/2000/svg\" height=\"24px\"viewBox=\"0 0 24 24\"\n",
              "       width=\"24px\">\n",
              "    <path d=\"M0 0h24v24H0V0z\" fill=\"none\"/>\n",
              "    <path d=\"M18.56 5.44l.94 2.06.94-2.06 2.06-.94-2.06-.94-.94-2.06-.94 2.06-2.06.94zm-11 1L8.5 8.5l.94-2.06 2.06-.94-2.06-.94L8.5 2.5l-.94 2.06-2.06.94zm10 10l.94 2.06.94-2.06 2.06-.94-2.06-.94-.94-2.06-.94 2.06-2.06.94z\"/><path d=\"M17.41 7.96l-1.37-1.37c-.4-.4-.92-.59-1.43-.59-.52 0-1.04.2-1.43.59L10.3 9.45l-7.72 7.72c-.78.78-.78 2.05 0 2.83L4 21.41c.39.39.9.59 1.41.59.51 0 1.02-.2 1.41-.59l7.78-7.78 2.81-2.81c.8-.78.8-2.07 0-2.86zM5.41 20L4 18.59l7.72-7.72 1.47 1.35L5.41 20z\"/>\n",
              "  </svg>\n",
              "      </button>\n",
              "      \n",
              "  <style>\n",
              "    .colab-df-container {\n",
              "      display:flex;\n",
              "      flex-wrap:wrap;\n",
              "      gap: 12px;\n",
              "    }\n",
              "\n",
              "    .colab-df-convert {\n",
              "      background-color: #E8F0FE;\n",
              "      border: none;\n",
              "      border-radius: 50%;\n",
              "      cursor: pointer;\n",
              "      display: none;\n",
              "      fill: #1967D2;\n",
              "      height: 32px;\n",
              "      padding: 0 0 0 0;\n",
              "      width: 32px;\n",
              "    }\n",
              "\n",
              "    .colab-df-convert:hover {\n",
              "      background-color: #E2EBFA;\n",
              "      box-shadow: 0px 1px 2px rgba(60, 64, 67, 0.3), 0px 1px 3px 1px rgba(60, 64, 67, 0.15);\n",
              "      fill: #174EA6;\n",
              "    }\n",
              "\n",
              "    [theme=dark] .colab-df-convert {\n",
              "      background-color: #3B4455;\n",
              "      fill: #D2E3FC;\n",
              "    }\n",
              "\n",
              "    [theme=dark] .colab-df-convert:hover {\n",
              "      background-color: #434B5C;\n",
              "      box-shadow: 0px 1px 3px 1px rgba(0, 0, 0, 0.15);\n",
              "      filter: drop-shadow(0px 1px 2px rgba(0, 0, 0, 0.3));\n",
              "      fill: #FFFFFF;\n",
              "    }\n",
              "  </style>\n",
              "\n",
              "      <script>\n",
              "        const buttonEl =\n",
              "          document.querySelector('#df-3aa32d3a-1dee-43e2-b7c1-1887a0e4c91e button.colab-df-convert');\n",
              "        buttonEl.style.display =\n",
              "          google.colab.kernel.accessAllowed ? 'block' : 'none';\n",
              "\n",
              "        async function convertToInteractive(key) {\n",
              "          const element = document.querySelector('#df-3aa32d3a-1dee-43e2-b7c1-1887a0e4c91e');\n",
              "          const dataTable =\n",
              "            await google.colab.kernel.invokeFunction('convertToInteractive',\n",
              "                                                     [key], {});\n",
              "          if (!dataTable) return;\n",
              "\n",
              "          const docLinkHtml = 'Like what you see? Visit the ' +\n",
              "            '<a target=\"_blank\" href=https://colab.research.google.com/notebooks/data_table.ipynb>data table notebook</a>'\n",
              "            + ' to learn more about interactive tables.';\n",
              "          element.innerHTML = '';\n",
              "          dataTable['output_type'] = 'display_data';\n",
              "          await google.colab.output.renderOutput(dataTable, element);\n",
              "          const docLink = document.createElement('div');\n",
              "          docLink.innerHTML = docLinkHtml;\n",
              "          element.appendChild(docLink);\n",
              "        }\n",
              "      </script>\n",
              "    </div>\n",
              "  </div>\n",
              "  "
            ]
          },
          "metadata": {},
          "execution_count": 17
        }
      ]
    },
    {
      "cell_type": "markdown",
      "source": [
        "### Plot frequencies "
      ],
      "metadata": {
        "id": "NIDoMHEygYfo"
      },
      "id": "NIDoMHEygYfo"
    },
    {
      "cell_type": "code",
      "source": [
        "plt.rcParams[\"figure.figsize\"] = (20,10)"
      ],
      "metadata": {
        "id": "QDxYPb6eZ1J2"
      },
      "id": "QDxYPb6eZ1J2",
      "execution_count": 18,
      "outputs": []
    },
    {
      "cell_type": "code",
      "source": [
        "counts_df.plot.bar(x='decimal', y='freq')\n",
        "plt.xlabel('decimal')\n",
        "plt.ylabel('frequency')\n",
        "plt.show()"
      ],
      "metadata": {
        "colab": {
          "base_uri": "https://localhost:8080/",
          "height": 615
        },
        "id": "Id9EYovAHhUe",
        "outputId": "cca1ef7e-3513-48c5-fb21-1cf5d30a7ffd"
      },
      "id": "Id9EYovAHhUe",
      "execution_count": 19,
      "outputs": [
        {
          "output_type": "display_data",
          "data": {
            "text/plain": [
              "<Figure size 1440x720 with 1 Axes>"
            ],
            "image/png": "[encoded data removed]"
          },
          "metadata": {
            "needs_background": "light"
          }
        }
      ]
    },
    {
      "cell_type": "code",
      "source": [
        "counts_df.plot.bar(x='binary', y='freq')\n",
        "plt.xlabel('binary')\n",
        "plt.ylabel('frequency')\n",
        "plt.show()"
      ],
      "metadata": {
        "colab": {
          "base_uri": "https://localhost:8080/",
          "height": 647
        },
        "id": "KIhaT2hagvta",
        "outputId": "87d51979-556b-42d8-91b7-5023ad9e50b1"
      },
      "id": "KIhaT2hagvta",
      "execution_count": 20,
      "outputs": [
        {
          "output_type": "display_data",
          "data": {
            "text/plain": [
              "<Figure size 1440x720 with 1 Axes>"
            ],
            "image/png": "[encoded data removed]"
          },
          "metadata": {
            "needs_background": "light"
          }
        }
      ]
    },
    {
      "cell_type": "code",
      "source": [
        "codec = HuffmanCodec.from_frequencies(binary_counts)\n",
        "codec.print_code_table()"
      ],
      "metadata": {
        "colab": {
          "base_uri": "https://localhost:8080/"
        },
        "id": "HCZ2zm0QtZd1",
        "outputId": "d942e636-3ad8-476d-f31d-e86c98e98c26"
      },
      "id": "HCZ2zm0QtZd1",
      "execution_count": 21,
      "outputs": [
        {
          "output_type": "stream",
          "name": "stdout",
          "text": [
            "Bits Code        Value Symbol\n",
            "   1 0               0 '11111111'\n",
            "   5 10000          16 '00111111'\n",
            "   9 100010000     272 '00000010'\n",
            "   9 100010001     273 '00000100'\n",
            "   9 100010010     274 '00001110'\n",
            "   9 100010011     275 '00111110'\n",
            "   8 10001010      138 '00111000'\n",
            "   9 100010110     278 '01100000'\n",
            "   9 100010111     279 '11100001'\n",
            "   8 10001100      140 '10001111'\n",
            "   8 10001101      141 '11000111'\n",
            "   8 10001110      142 '11100011'\n",
            "  10 1000111100    572 '11101000'\n",
            "  11 10001111010  1146 _EOF\n",
            "  11 10001111011  1147 '00010110'\n",
            "   9 100011111     287 '11110111'\n",
            "   5 10010          18 '11111110'\n",
            "   5 10011          19 '00001111'\n",
            "   5 10100          20 '11110000'\n",
            "   8 10101000      168 '11000001'\n",
            "   8 10101001      169 '11001111'\n",
            "   8 10101010      170 '11011111'\n",
            "   8 10101011      171 '11111101'\n",
            "  10 1010110000    688 '00000110'\n",
            "  11 10101100010  1378 '00011000'\n",
            "  11 10101100011  1379 '00011011'\n",
            "   9 101011001     345 '00001000'\n",
            "   9 101011010     346 '00010000'\n",
            "  11 10101101100  1388 '00011100'\n",
            "  11 10101101101  1389 '00011110'\n",
            "  11 10101101110  1390 '00100000'\n",
            "  11 10101101111  1391 '00110111'\n",
            "  11 10101110000  1392 '00111011'\n",
            "  11 10101110001  1393 '00111100'\n",
            "  10 1010111001    697 '01000000'\n",
            "  11 10101110100  1396 '01000111'\n",
            "  11 10101110101  1397 '01011110'\n",
            "  11 10101110110  1398 '01110000'\n",
            "  11 10101110111  1399 '10000101'\n",
            "   9 101011110     350 '01111000'\n",
            "  10 1010111110    702 '01111100'\n",
            "  10 1010111111    703 '01111110'\n",
            "  11 10110000000  1408 '10001000'\n",
            "  11 10110000001  1409 '10010000'\n",
            "  11 10110000010  1410 '10011000'\n",
            "  11 10110000011  1411 '11010000'\n",
            "   9 101100001     353 '10011111'\n",
            "  10 1011000100    708 '10111000'\n",
            "  10 1011000101    709 '10111111'\n",
            "   9 101100011     355 '11000011'\n",
            "  11 10110010000  1424 '11011100'\n",
            "  11 10110010001  1425 '11100110'\n",
            "  10 1011001001    713 '11110010'\n",
            "   9 101100101     357 '11100111'\n",
            "   9 101100110     358 '11101111'\n",
            "  10 1011001110    718 '11110011'\n",
            "  10 1011001111    719 '11111001'\n",
            "   6 101101         45 '10000000'\n",
            "   6 101110         46 '11100000'\n",
            "   6 101111         47 '00000001'\n",
            "   8 11000000      192 '11110001'\n",
            "   8 11000001      193 '11111011'\n",
            "   9 110000100     388 '00110000'\n",
            "   9 110000101     389 '10000001'\n",
            "   9 110000110     390 '10000011'\n",
            "   9 110000111     391 '10000111'\n",
            "   6 110001         49 '00011111'\n",
            "   6 110010         50 '11000000'\n",
            "   6 110011         51 '11111100'\n",
            "   6 110100         52 '00000011'\n",
            "   6 110101         53 '00000111'\n",
            "   6 110110         54 '01111111'\n",
            "   6 110111         55 '11111000'\n",
            "   3 111             7 '00000000'\n"
          ]
        }
      ]
    },
    {
      "cell_type": "markdown",
      "source": [
        "### compression rate estimation"
      ],
      "metadata": {
        "id": "xHIkFyUHyQQv"
      },
      "id": "xHIkFyUHyQQv"
    },
    {
      "cell_type": "code",
      "source": [
        "def entropy(p):\n",
        "    return -np.sum(p * np.log2(p))"
      ],
      "metadata": {
        "id": "bsz4wxRyV0Dm"
      },
      "id": "bsz4wxRyV0Dm",
      "execution_count": 22,
      "outputs": []
    },
    {
      "cell_type": "code",
      "source": [
        "freq = np.array(counts_df['freq'])\n",
        "e = entropy(freq)\n",
        "print(f'The entropy is: {round(e, 3)}')\n",
        "compression_rate_minimum = round(e / 8, 3)\n",
        "print(f'The minimal compression rate is: {compression_rate_minimum}')\n",
        "compression_rate_maximum = round((e + 1)/8, 3)\n",
        "print(f'The maximal compression rate is: {compression_rate_maximum}')"
      ],
      "metadata": {
        "colab": {
          "base_uri": "https://localhost:8080/"
        },
        "id": "4kGbiU1Lf4Tl",
        "outputId": "5cf984fe-9e5e-41b9-c37d-403acaf04b54"
      },
      "id": "4kGbiU1Lf4Tl",
      "execution_count": 23,
      "outputs": [
        {
          "output_type": "stream",
          "name": "stdout",
          "text": [
            "The entropy is: 3.338\n",
            "The minimal compression rate is: 0.417\n",
            "The maximal compression rate is: 0.542\n"
          ]
        }
      ]
    },
    {
      "cell_type": "markdown",
      "source": [
        "**As we've studied the expected length of the compressed binary code is ranged as follows: $H(X) ≤ L ≤ H(X) + 1$. <br> The entropy is 3.338, therefore: $3.338 ≤ L ≤ 4.338$ <br> Since we're encoding tuples of 8 bits, we can divide by eight and conculde that the compression rate is ranged as follows: $0.417 ≤ compression-rate ≤ 0.542$**"
      ],
      "metadata": {
        "id": "gOee6huKkBGJ"
      },
      "id": "gOee6huKkBGJ"
    },
    {
      "cell_type": "code",
      "source": [
        "def expected_code_length(codec, probs):\n",
        "    tbl = codec.get_code_table()\n",
        "    L = 0\n",
        "    for k in probs:\n",
        "        L += probs[k]*tbl[k][0]\n",
        "    return L"
      ],
      "metadata": {
        "id": "H8Rk4hKetYNH"
      },
      "id": "H8Rk4hKetYNH",
      "execution_count": 24,
      "outputs": []
    },
    {
      "cell_type": "code",
      "source": [
        "probs = dict(zip(counts_df['binary'], counts_df['freq']))"
      ],
      "metadata": {
        "id": "dDsL8KrAU9YT"
      },
      "id": "dDsL8KrAU9YT",
      "execution_count": 25,
      "outputs": []
    },
    {
      "cell_type": "code",
      "source": [
        "expected_bits_per_tuple = expected_code_length(codec, probs)\n",
        "print(f\"The expected bits per tuple is: {round(expected_bits_per_tuple, 3)}\")\n",
        "print(f\"The expected compression rate is: {round(expected_bits_per_tuple / 8, 3)}\")"
      ],
      "metadata": {
        "colab": {
          "base_uri": "https://localhost:8080/"
        },
        "id": "VyXhFX97nqTV",
        "outputId": "50cf335b-618e-4fa0-ab05-bcb0ce3ac4c4"
      },
      "id": "VyXhFX97nqTV",
      "execution_count": 26,
      "outputs": [
        {
          "output_type": "stream",
          "name": "stdout",
          "text": [
            "The expected bits per tuple is: 3.36\n",
            "The expected compression rate is: 0.42\n"
          ]
        }
      ]
    },
    {
      "cell_type": "markdown",
      "source": [
        "**We could also use the above function, in order to estimate the compression rate more precisely.**"
      ],
      "metadata": {
        "id": "liDqW1dyVLml"
      },
      "id": "liDqW1dyVLml"
    },
    {
      "cell_type": "markdown",
      "source": [
        "### Encoding and Decoding"
      ],
      "metadata": {
        "id": "TBYU3FsKTsKn"
      },
      "id": "TBYU3FsKTsKn"
    },
    {
      "cell_type": "code",
      "source": [
        "encoded = codec.encode(binary_tuples)\n",
        "decoded = codec.decode(encoded)\n",
        "assert decoded == list(binary_tuples)"
      ],
      "metadata": {
        "id": "ZGWVwz2BkwGz"
      },
      "id": "ZGWVwz2BkwGz",
      "execution_count": 27,
      "outputs": []
    },
    {
      "cell_type": "code",
      "source": [
        "original_bits = len(binary_tuples)*8\n",
        "encoded_bits = len(encoded)*8\n",
        "\n",
        "print(f\"Length original: {original_bits} bits\")\n",
        "print(f\"Length encoded: {encoded_bits} bits\")\n",
        "print(\"---------------------------------------\")\n",
        "print(f\"Original bits per tuple: {len(binary_tuples[0])} bits\")\n",
        "print(f\"Actual bits per tuple encoded: {round(len(encoded)*8/len(binary_tuples), 3)} bits\")\n",
        "print(\"---------------------------------------\")\n",
        "print(f\"Redundancy: {round(1 - encoded_bits/original_bits, 3)}\")\n",
        "print(f'Compression rate: {round(encoded_bits/original_bits, 3)}')"
      ],
      "metadata": {
        "colab": {
          "base_uri": "https://localhost:8080/"
        },
        "id": "F1g7ndXPKjDc",
        "outputId": "9a79fb8d-0267-46a4-ab97-c269ef013b64"
      },
      "id": "F1g7ndXPKjDc",
      "execution_count": 28,
      "outputs": [
        {
          "output_type": "stream",
          "name": "stdout",
          "text": [
            "Length original: 16384 bits\n",
            "Length encoded: 6888 bits\n",
            "---------------------------------------\n",
            "Original bits per tuple: 8 bits\n",
            "Actual bits per tuple encoded: 3.363 bits\n",
            "---------------------------------------\n",
            "Redundancy: 0.58\n",
            "Compression rate: 0.42\n"
          ]
        }
      ]
    },
    {
      "cell_type": "markdown",
      "source": [
        "**In order to verify the estimated compression rate, I've encoded the stream. As expected, the compression rate is: 0.42, which is within the given range**"
      ],
      "metadata": {
        "id": "31BwiG8Tmmlp"
      },
      "id": "31BwiG8Tmmlp"
    },
    {
      "cell_type": "markdown",
      "id": "342a6b46",
      "metadata": {
        "id": "342a6b46"
      },
      "source": [
        "(4) Compress the binary string using Run Length Encoding (RLE) with a maximal stretch of $2^k$. Namely, for $k=3$, the string 000001100011111111.... is encoded as (0,4), (1,1), (0,2), (1,7)..., which is then encoded as (0,100), (1,001), (0,010), (1,111), which is then encoded as 0100 1001 0010 1111 (each stretch of \"1\"s or \"0\"s is encoded using $1+k$ bits. We subtract one from the length of the stretch because there are no stretches of length 0). Stretches longer than $2^k$ are seperated into a stretch of $2^k$ and the remainder. Experiment with values of $k$ between 2-8 and report the compression rate for each $k$. Which $k$ attains the best compression rate?"
      ]
    },
    {
      "cell_type": "markdown",
      "source": [
        "### Experiment for K=3"
      ],
      "metadata": {
        "id": "RJtdsTjNgir_"
      },
      "id": "RJtdsTjNgir_"
    },
    {
      "cell_type": "code",
      "source": [
        "def countConsecutive(arr, k):\n",
        "    rle_tuple = []\n",
        "    count = 1\n",
        "    for i in range(len(arr) - 1):\n",
        "        # If consecutive elements are same\n",
        "        if (arr[i] == arr[i + 1]) and count < k:\n",
        "            count += 1\n",
        "            if i + 1 == len(arr) -1:\n",
        "              rle_tuple.append((arr[i],count))\n",
        "        else:\n",
        "            rle_tuple.append((arr[i],count))\n",
        "            count = 1\n",
        "    return rle_tuple\n",
        "    \n",
        "rle_init_tuples = countConsecutive(X, 7)\n",
        "rle_init_tuples[:10]"
      ],
      "metadata": {
        "colab": {
          "base_uri": "https://localhost:8080/"
        },
        "id": "d4FVCs5FtX-Q",
        "outputId": "eccdd0c4-f78a-49ce-ba31-fbbdab372bf1"
      },
      "id": "d4FVCs5FtX-Q",
      "execution_count": 29,
      "outputs": [
        {
          "output_type": "execute_result",
          "data": {
            "text/plain": [
              "[(0, 3),\n",
              " (1, 7),\n",
              " (1, 7),\n",
              " (1, 7),\n",
              " (0, 2),\n",
              " (1, 7),\n",
              " (0, 7),\n",
              " (0, 7),\n",
              " (0, 1),\n",
              " (1, 2)]"
            ]
          },
          "metadata": {},
          "execution_count": 29
        }
      ]
    },
    {
      "cell_type": "code",
      "source": [
        "rle_bin_tuples = [(k,bin(v)[2:].zfill(3)) for (k,v) in rle_init_tuples]\n",
        "rle_bin_tuples[:10]"
      ],
      "metadata": {
        "colab": {
          "base_uri": "https://localhost:8080/"
        },
        "id": "av80gzhkAbA_",
        "outputId": "88a76186-de5b-4c3c-a36c-8fc9e6480b71"
      },
      "id": "av80gzhkAbA_",
      "execution_count": 30,
      "outputs": [
        {
          "output_type": "execute_result",
          "data": {
            "text/plain": [
              "[(0, '011'),\n",
              " (1, '111'),\n",
              " (1, '111'),\n",
              " (1, '111'),\n",
              " (0, '010'),\n",
              " (1, '111'),\n",
              " (0, '111'),\n",
              " (0, '111'),\n",
              " (0, '001'),\n",
              " (1, '010')]"
            ]
          },
          "metadata": {},
          "execution_count": 30
        }
      ]
    },
    {
      "cell_type": "code",
      "source": [
        "rle_final_tuples = [str(k)+v for (k,v) in rle_bin_tuples]\n",
        "rle_final_tuples[:10]"
      ],
      "metadata": {
        "colab": {
          "base_uri": "https://localhost:8080/"
        },
        "id": "75rdHmPaAbF4",
        "outputId": "b260677f-fc07-488c-a845-0281a50fbbed"
      },
      "id": "75rdHmPaAbF4",
      "execution_count": 31,
      "outputs": [
        {
          "output_type": "execute_result",
          "data": {
            "text/plain": [
              "['0011',\n",
              " '1111',\n",
              " '1111',\n",
              " '1111',\n",
              " '0010',\n",
              " '1111',\n",
              " '0111',\n",
              " '0111',\n",
              " '0001',\n",
              " '1010']"
            ]
          },
          "metadata": {},
          "execution_count": 31
        }
      ]
    },
    {
      "cell_type": "code",
      "source": [
        "rle_tuples_flat = \"\".join([str(x) for x in rle_final_tuples])\n",
        "rle_tuples_flat[:100]"
      ],
      "metadata": {
        "colab": {
          "base_uri": "https://localhost:8080/",
          "height": 35
        },
        "id": "Wfc0F0zpcBNO",
        "outputId": "8faa9f53-267f-4c92-f219-0d10eaff2a6f"
      },
      "id": "Wfc0F0zpcBNO",
      "execution_count": 32,
      "outputs": [
        {
          "output_type": "execute_result",
          "data": {
            "text/plain": [
              "'0011111111111111001011110111011100011010010011110111010111111111111111111111110001011111111111010111'"
            ],
            "application/vnd.google.colaboratory.intrinsic+json": {
              "type": "string"
            }
          },
          "metadata": {},
          "execution_count": 32
        }
      ]
    },
    {
      "cell_type": "code",
      "source": [
        "rle_original_bits = len(X)\n",
        "rle_encoded_bits = len(rle_tuples_flat)\n",
        "\n",
        "print(f\"Length original: {rle_original_bits} bits\")\n",
        "print(f\"Length encoded: {rle_encoded_bits} bits\")\n",
        "print(\"---------------------------------------\")\n",
        "print(f\"Redundancy: {round(1 - rle_encoded_bits/rle_original_bits, 3)}\")\n",
        "print(f'Compression rate: {round(rle_encoded_bits/rle_original_bits, 3)}')"
      ],
      "metadata": {
        "colab": {
          "base_uri": "https://localhost:8080/"
        },
        "id": "ZcK5x-Ynrbvr",
        "outputId": "efc07936-0569-447f-91f2-797231ec1ddc"
      },
      "id": "ZcK5x-Ynrbvr",
      "execution_count": 33,
      "outputs": [
        {
          "output_type": "stream",
          "name": "stdout",
          "text": [
            "Length original: 16384 bits\n",
            "Length encoded: 11436 bits\n",
            "---------------------------------------\n",
            "Redundancy: 0.302\n",
            "Compression rate: 0.698\n"
          ]
        }
      ]
    },
    {
      "cell_type": "markdown",
      "source": [
        "**First, i've experiment the RLE algo with K=3, and verified each step. Now I can safely run the experiment with values of  k  between 2-8 and report the compression rate for each  k**\n"
      ],
      "metadata": {
        "id": "68y3om0wXaiO"
      },
      "id": "68y3om0wXaiO"
    },
    {
      "cell_type": "markdown",
      "source": [
        "### Experiment for K between 2-8"
      ],
      "metadata": {
        "id": "An9-Glydgmg5"
      },
      "id": "An9-Glydgmg5"
    },
    {
      "cell_type": "code",
      "source": [
        "for K in range(2,8+1):\n",
        "  print(f\"Experiment for K={K}:\\n\")\n",
        "  k_binary = {2: 3, 3: 7 ,4: 15, 5: 31, 6: 63, 7: 127, 8: 255}\n",
        "\n",
        "  # build tuples\n",
        "  rle_init_tuples = countConsecutive(X, k_binary[K])\n",
        "  rle_bin_tuples = [(k,bin(v)[2:].zfill(K)) for (k,v) in rle_init_tuples]\n",
        "  rle_final_tuples = [str(k)+v for (k,v) in rle_bin_tuples]\n",
        "  rle_tuples = np.array([int(x,2) for x in rle_final_tuples])\n",
        "  rle_binary_tuples = np.array(rle_final_tuples)\n",
        "  print(rle_init_tuples[:10])\n",
        "  print(rle_bin_tuples[:10])\n",
        "  print(rle_final_tuples[:10])\n",
        "\n",
        "  rle_tuples_flat = \"\".join([str(x) for x in rle_final_tuples])\n",
        "  print(rle_tuples_flat[:100])\n",
        "\n",
        "  # results\n",
        "  rle_original_bits = len(X)\n",
        "  rle_encoded_bits = len(rle_tuples_flat)\n",
        "\n",
        "  print(f\"Length original: {rle_original_bits} bits\")\n",
        "  print(f\"Length encoded: {rle_encoded_bits} bits\")\n",
        "  print(\"---------------------------------------\")\n",
        "  print(f\"Redundancy: {round(1 - rle_encoded_bits/rle_original_bits, 3)}\")\n",
        "  print(f'Compression rate: {round(rle_encoded_bits/rle_original_bits, 3)}')\n",
        "  print(\"\\n---------------------------------------------------------------------------------------------------------------------------------------------------------\\n\") "
      ],
      "metadata": {
        "colab": {
          "base_uri": "https://localhost:8080/"
        },
        "id": "izARtGRFeYUb",
        "outputId": "0e309f43-0628-4fa4-823f-14777ba0ffe2"
      },
      "id": "izARtGRFeYUb",
      "execution_count": 34,
      "outputs": [
        {
          "output_type": "stream",
          "name": "stdout",
          "text": [
            "Experiment for K=2:\n",
            "\n",
            "[(0, 3), (1, 3), (1, 3), (1, 3), (1, 3), (1, 3), (1, 3), (1, 3), (0, 2), (1, 3)]\n",
            "[(0, '11'), (1, '11'), (1, '11'), (1, '11'), (1, '11'), (1, '11'), (1, '11'), (1, '11'), (0, '10'), (1, '11')]\n",
            "['011', '111', '111', '111', '111', '111', '111', '111', '010', '111']\n",
            "0111111111111111111111110101111111010110110110110111100110011111111010110110110111111111111111111111\n",
            "Length original: 16384 bits\n",
            "Length encoded: 17514 bits\n",
            "---------------------------------------\n",
            "Redundancy: -0.069\n",
            "Compression rate: 1.069\n",
            "\n",
            "---------------------------------------------------------------------------------------------------------------------------------------------------------\n",
            "\n",
            "Experiment for K=3:\n",
            "\n",
            "[(0, 3), (1, 7), (1, 7), (1, 7), (0, 2), (1, 7), (0, 7), (0, 7), (0, 1), (1, 2)]\n",
            "[(0, '011'), (1, '111'), (1, '111'), (1, '111'), (0, '010'), (1, '111'), (0, '111'), (0, '111'), (0, '001'), (1, '010')]\n",
            "['0011', '1111', '1111', '1111', '0010', '1111', '0111', '0111', '0001', '1010']\n",
            "0011111111111111001011110111011100011010010011110111010111111111111111111111110001011111111111010111\n",
            "Length original: 16384 bits\n",
            "Length encoded: 11436 bits\n",
            "---------------------------------------\n",
            "Redundancy: 0.302\n",
            "Compression rate: 0.698\n",
            "\n",
            "---------------------------------------------------------------------------------------------------------------------------------------------------------\n",
            "\n",
            "Experiment for K=4:\n",
            "\n",
            "[(0, 3), (1, 15), (1, 6), (0, 2), (1, 7), (0, 15), (1, 2), (0, 4), (1, 7), (0, 12)]\n",
            "[(0, '0011'), (1, '1111'), (1, '0110'), (0, '0010'), (1, '0111'), (0, '1111'), (1, '0010'), (0, '0100'), (1, '0111'), (0, '1100')]\n",
            "['00011', '11111', '10110', '00010', '10111', '01111', '10010', '00100', '10111', '01100']\n",
            "0001111111101100001010111011111001000100101110110011111111111100100101111111010001001111111111101011\n",
            "Length original: 16384 bits\n",
            "Length encoded: 8510 bits\n",
            "---------------------------------------\n",
            "Redundancy: 0.481\n",
            "Compression rate: 0.519\n",
            "\n",
            "---------------------------------------------------------------------------------------------------------------------------------------------------------\n",
            "\n",
            "Experiment for K=5:\n",
            "\n",
            "[(0, 3), (1, 21), (0, 2), (1, 7), (0, 15), (1, 2), (0, 4), (1, 7), (0, 12), (1, 31)]\n",
            "[(0, '00011'), (1, '10101'), (0, '00010'), (1, '00111'), (0, '01111'), (1, '00010'), (0, '00100'), (1, '00111'), (0, '01100'), (1, '11111')]\n",
            "['000011', '110101', '000010', '100111', '001111', '100010', '000100', '100111', '001100', '111111']\n",
            "0000111101010000101001110011111000100001001001110011001111111010000001011100110010011111100010111000\n",
            "Length original: 16384 bits\n",
            "Length encoded: 7578 bits\n",
            "---------------------------------------\n",
            "Redundancy: 0.537\n",
            "Compression rate: 0.463\n",
            "\n",
            "---------------------------------------------------------------------------------------------------------------------------------------------------------\n",
            "\n",
            "Experiment for K=6:\n",
            "\n",
            "[(0, 3), (1, 21), (0, 2), (1, 7), (0, 15), (1, 2), (0, 4), (1, 7), (0, 12), (1, 39)]\n",
            "[(0, '000011'), (1, '010101'), (0, '000010'), (1, '000111'), (0, '001111'), (1, '000010'), (0, '000100'), (1, '000111'), (0, '001100'), (1, '100111')]\n",
            "['0000011', '1010101', '0000010', '1000111', '0001111', '1000010', '0000100', '1000111', '0001100', '1100111']\n",
            "0000011101010100000101000111000111110000100000100100011100011001100111000010110100110001001101111000\n",
            "Length original: 16384 bits\n",
            "Length encoded: 7889 bits\n",
            "---------------------------------------\n",
            "Redundancy: 0.518\n",
            "Compression rate: 0.482\n",
            "\n",
            "---------------------------------------------------------------------------------------------------------------------------------------------------------\n",
            "\n",
            "Experiment for K=7:\n",
            "\n",
            "[(0, 3), (1, 21), (0, 2), (1, 7), (0, 15), (1, 2), (0, 4), (1, 7), (0, 12), (1, 39)]\n",
            "[(0, '0000011'), (1, '0010101'), (0, '0000010'), (1, '0000111'), (0, '0001111'), (1, '0000010'), (0, '0000100'), (1, '0000111'), (0, '0001100'), (1, '0100111')]\n",
            "['00000011', '10010101', '00000010', '10000111', '00001111', '10000010', '00000100', '10000111', '00001100', '10100111']\n",
            "0000001110010101000000101000011100001111100000100000010010000111000011001010011100000101100100110000\n",
            "Length original: 16384 bits\n",
            "Length encoded: 8824 bits\n",
            "---------------------------------------\n",
            "Redundancy: 0.461\n",
            "Compression rate: 0.539\n",
            "\n",
            "---------------------------------------------------------------------------------------------------------------------------------------------------------\n",
            "\n",
            "Experiment for K=8:\n",
            "\n",
            "[(0, 3), (1, 21), (0, 2), (1, 7), (0, 15), (1, 2), (0, 4), (1, 7), (0, 12), (1, 39)]\n",
            "[(0, '00000011'), (1, '00010101'), (0, '00000010'), (1, '00000111'), (0, '00001111'), (1, '00000010'), (0, '00000100'), (1, '00000111'), (0, '00001100'), (1, '00100111')]\n",
            "['000000011', '100010101', '000000010', '100000111', '000001111', '100000010', '000000100', '100000111', '000001100', '100100111']\n",
            "0000000111000101010000000101000001110000011111000000100000001001000001110000011001001001110000001011\n",
            "Length original: 16384 bits\n",
            "Length encoded: 9918 bits\n",
            "---------------------------------------\n",
            "Redundancy: 0.395\n",
            "Compression rate: 0.605\n",
            "\n",
            "---------------------------------------------------------------------------------------------------------------------------------------------------------\n",
            "\n"
          ]
        }
      ]
    },
    {
      "cell_type": "markdown",
      "source": [
        "**The results show that the value of K with the best compression rate is: 5 <br> In particular, the compression rate for k=5 is: 0.463**"
      ],
      "metadata": {
        "id": "NEaEozvHjBF6"
      },
      "id": "NEaEozvHjBF6"
    },
    {
      "cell_type": "markdown",
      "id": "c9708a69",
      "metadata": {
        "id": "c9708a69"
      },
      "source": [
        "(5) Bonus: Can you think about a way to improve the proposed RLE?"
      ]
    },
    {
      "cell_type": "markdown",
      "source": [
        "**We can use LZ77 compression as an improvement for the proposed RLE. Both the LZ77 and RLE algorithms encode data by replacing repeated data elements with references. However, LZ77 should achieve a better compression rate than RLE because it uses dynamic sliding window techniques to look for repeating substrings, whereas RLE only looks for repeated values. <br> <br> In detail, LZ77 data compression is an algorithm used in data compression. It works by identifying repeated patterns in a given data stream and replacing them with a reference to the previous occurrence of the same pattern. <br><br> This is accomplished by using a sliding window that stores the most recently seen data. The algorithm then looks for matches, or “longest common subsequences”, in the window and encodes them as a reference to the data stored in the window. The reference consists of a length and a distance, which indicate how long the subsequence is and how far back in the window the subsequence was found. <br><br> The encoded data is then transmitted to the receiver, which can then decode it using the same algorithm. This reduces the amount of data that needs to be stored or transferred, resulting in improved storage and bandwidth efficiency.**\n"
      ],
      "metadata": {
        "id": "svXdKd2rxAJP"
      },
      "id": "svXdKd2rxAJP"
    },
    {
      "cell_type": "markdown",
      "id": "b35de213",
      "metadata": {
        "id": "b35de213"
      },
      "source": [
        "## 2. Guessing game and compression\n",
        "In this question you should work with a simplified version of the text of pride and prejudice: lower case, no punctuation but with sentence limits. You can use the function ``simplify_text`` available below."
      ]
    },
    {
      "cell_type": "code",
      "execution_count": 35,
      "id": "5d57593c",
      "metadata": {
        "id": "5d57593c"
      },
      "outputs": [],
      "source": [
        "import numpy as np\n",
        "import re\n",
        "import pandas as pd\n",
        "\n",
        "TOKEN_PATTERN = r\"(?u)[a-zA-Z]+|\\</?s\\>\"\n",
        "SENT_START_TOKEN = '<s>'\n",
        "SENT_END_TOKEN = '</s>'\n",
        "\n",
        "\n",
        "def to_tokens(text: str) -> list:\n",
        "    return re.findall(TOKEN_PATTERN, text.lower())\n",
        "\n",
        "\n",
        "def normalize_text(text: str) -> str:\n",
        "    \"\"\"\n",
        "    Remove/add dots to indicate sentence limits\n",
        "    \"\"\"\n",
        "    \n",
        "    text = re.sub(\"(Mrs?)\\.\", \"\\\\1\", text) # Mr/s. -> Mr/s\n",
        "    text = re.sub(\"[!?]\", \".\", text) # !? -> .\n",
        "    text = re.sub(\"(I+)\\.\", \"\\\\1\", text) # II. -> II\n",
        "    text = re.sub(\"([a-zA-Z])\\.([a-zA-Z])\\.\", \"\\\\1\\\\2\", text) #i.e.->ie e.g. -> eg\n",
        "    return text\n",
        "\n",
        "def add_sentence_limits(text: str, sep=r'\\.') -> str:\n",
        "    \"\"\"\n",
        "    Add SENT_START_TOKEN and SENT_END_TOKEN at the beginning and\n",
        "    ending of every sentence. \n",
        "    \n",
        "    Args:\n",
        "        :text: is a text input\n",
        "        :sep: explains how to identify sentnce ending (regular expression)\n",
        "    \"\"\"\n",
        "    sentences = re.split(sep, normalize_text(text))\n",
        "    sent_break = f' {SENT_END_TOKEN} {SENT_START_TOKEN} '\n",
        "    return SENT_START_TOKEN + ' ' + sent_break.join(sentences) + ' ' + SENT_END_TOKEN\n",
        "\n",
        "\n",
        "def simplify_text(text: str) -> str:\n",
        "    \"\"\"\n",
        "    Returns a simplified version of the text:\n",
        "     - lower case \n",
        "     - sentence limits marking\n",
        "     - no punctuation or new lines\n",
        "    \"\"\"\n",
        "    return \" \".join(to_tokens(add_sentence_limits(text)))"
      ]
    },
    {
      "cell_type": "code",
      "source": [
        "from ngram import *"
      ],
      "metadata": {
        "id": "V2yNk-BaBxCI"
      },
      "id": "V2yNk-BaBxCI",
      "execution_count": 36,
      "outputs": []
    },
    {
      "cell_type": "code",
      "source": [
        "with open(\"/content/pride and prejudice.txt\", 'rt') as f:\n",
        "    text = f.read()\n",
        "print(\"Number of tokens = \", len(text.split()))"
      ],
      "metadata": {
        "colab": {
          "base_uri": "https://localhost:8080/"
        },
        "id": "muPb4YNrmtqj",
        "outputId": "fa2af287-509e-4dff-84e2-0ecae8781e10"
      },
      "id": "muPb4YNrmtqj",
      "execution_count": 37,
      "outputs": [
        {
          "output_type": "stream",
          "name": "stdout",
          "text": [
            "Number of tokens =  124467\n"
          ]
        }
      ]
    },
    {
      "cell_type": "code",
      "source": [
        "text_simplified = simplify_text(text)"
      ],
      "metadata": {
        "id": "rBDsRCJSm1s0"
      },
      "id": "rBDsRCJSm1s0",
      "execution_count": 38,
      "outputs": []
    },
    {
      "cell_type": "code",
      "source": [
        "model_1g = build_ngram_model(text_simplified, 1)"
      ],
      "metadata": {
        "colab": {
          "base_uri": "https://localhost:8080/"
        },
        "id": "zW571yBwnA3B",
        "outputId": "7cce65cf-736e-4c2e-a8a2-8debf2dca2dd"
      },
      "id": "zW571yBwnA3B",
      "execution_count": 39,
      "outputs": [
        {
          "output_type": "stream",
          "name": "stdout",
          "text": [
            "Cleaning text...\n",
            "Extracting tokens...\n",
            "Counting tokens...\n",
            "Computing frequencies...\n",
            "Built a model with 6513 1-grams\n"
          ]
        }
      ]
    },
    {
      "cell_type": "code",
      "source": [
        "model_1g.head(10)"
      ],
      "metadata": {
        "colab": {
          "base_uri": "https://localhost:8080/",
          "height": 394
        },
        "id": "DMRtomzRnCZh",
        "outputId": "f25de0c9-88b9-4a7b-a9c9-7e9ede36d840"
      },
      "id": "DMRtomzRnCZh",
      "execution_count": 40,
      "outputs": [
        {
          "output_type": "execute_result",
          "data": {
            "text/plain": [
              "      count      freq\n",
              "0                    \n",
              "</s>   6212  0.044942\n",
              "<s>    6212  0.044942\n",
              "the    4511  0.032636\n",
              "to     4245  0.030711\n",
              "of     3728  0.026971\n",
              "and    3650  0.026407\n",
              "her    2226  0.016105\n",
              "i      2070  0.014976\n",
              "a      2006  0.014513\n",
              "in     1937  0.014014"
            ],
            "text/html": [
              "\n",
              "  <div id=\"df-24517cb5-f7fb-4233-a183-8cbc3bcee29b\">\n",
              "    <div class=\"colab-df-container\">\n",
              "      <div>\n",
              "<style scoped>\n",
              "    .dataframe tbody tr th:only-of-type {\n",
              "        vertical-align: middle;\n",
              "    }\n",
              "\n",
              "    .dataframe tbody tr th {\n",
              "        vertical-align: top;\n",
              "    }\n",
              "\n",
              "    .dataframe thead th {\n",
              "        text-align: right;\n",
              "    }\n",
              "</style>\n",
              "<table border=\"1\" class=\"dataframe\">\n",
              "  <thead>\n",
              "    <tr style=\"text-align: right;\">\n",
              "      <th></th>\n",
              "      <th>count</th>\n",
              "      <th>freq</th>\n",
              "    </tr>\n",
              "    <tr>\n",
              "      <th>0</th>\n",
              "      <th></th>\n",
              "      <th></th>\n",
              "    </tr>\n",
              "  </thead>\n",
              "  <tbody>\n",
              "    <tr>\n",
              "      <th>&lt;/s&gt;</th>\n",
              "      <td>6212</td>\n",
              "      <td>0.044942</td>\n",
              "    </tr>\n",
              "    <tr>\n",
              "      <th>&lt;s&gt;</th>\n",
              "      <td>6212</td>\n",
              "      <td>0.044942</td>\n",
              "    </tr>\n",
              "    <tr>\n",
              "      <th>the</th>\n",
              "      <td>4511</td>\n",
              "      <td>0.032636</td>\n",
              "    </tr>\n",
              "    <tr>\n",
              "      <th>to</th>\n",
              "      <td>4245</td>\n",
              "      <td>0.030711</td>\n",
              "    </tr>\n",
              "    <tr>\n",
              "      <th>of</th>\n",
              "      <td>3728</td>\n",
              "      <td>0.026971</td>\n",
              "    </tr>\n",
              "    <tr>\n",
              "      <th>and</th>\n",
              "      <td>3650</td>\n",
              "      <td>0.026407</td>\n",
              "    </tr>\n",
              "    <tr>\n",
              "      <th>her</th>\n",
              "      <td>2226</td>\n",
              "      <td>0.016105</td>\n",
              "    </tr>\n",
              "    <tr>\n",
              "      <th>i</th>\n",
              "      <td>2070</td>\n",
              "      <td>0.014976</td>\n",
              "    </tr>\n",
              "    <tr>\n",
              "      <th>a</th>\n",
              "      <td>2006</td>\n",
              "      <td>0.014513</td>\n",
              "    </tr>\n",
              "    <tr>\n",
              "      <th>in</th>\n",
              "      <td>1937</td>\n",
              "      <td>0.014014</td>\n",
              "    </tr>\n",
              "  </tbody>\n",
              "</table>\n",
              "</div>\n",
              "      <button class=\"colab-df-convert\" onclick=\"convertToInteractive('df-24517cb5-f7fb-4233-a183-8cbc3bcee29b')\"\n",
              "              title=\"Convert this dataframe to an interactive table.\"\n",
              "              style=\"display:none;\">\n",
              "        \n",
              "  <svg xmlns=\"http://www.w3.org/2000/svg\" height=\"24px\"viewBox=\"0 0 24 24\"\n",
              "       width=\"24px\">\n",
              "    <path d=\"M0 0h24v24H0V0z\" fill=\"none\"/>\n",
              "    <path d=\"M18.56 5.44l.94 2.06.94-2.06 2.06-.94-2.06-.94-.94-2.06-.94 2.06-2.06.94zm-11 1L8.5 8.5l.94-2.06 2.06-.94-2.06-.94L8.5 2.5l-.94 2.06-2.06.94zm10 10l.94 2.06.94-2.06 2.06-.94-2.06-.94-.94-2.06-.94 2.06-2.06.94z\"/><path d=\"M17.41 7.96l-1.37-1.37c-.4-.4-.92-.59-1.43-.59-.52 0-1.04.2-1.43.59L10.3 9.45l-7.72 7.72c-.78.78-.78 2.05 0 2.83L4 21.41c.39.39.9.59 1.41.59.51 0 1.02-.2 1.41-.59l7.78-7.78 2.81-2.81c.8-.78.8-2.07 0-2.86zM5.41 20L4 18.59l7.72-7.72 1.47 1.35L5.41 20z\"/>\n",
              "  </svg>\n",
              "      </button>\n",
              "      \n",
              "  <style>\n",
              "    .colab-df-container {\n",
              "      display:flex;\n",
              "      flex-wrap:wrap;\n",
              "      gap: 12px;\n",
              "    }\n",
              "\n",
              "    .colab-df-convert {\n",
              "      background-color: #E8F0FE;\n",
              "      border: none;\n",
              "      border-radius: 50%;\n",
              "      cursor: pointer;\n",
              "      display: none;\n",
              "      fill: #1967D2;\n",
              "      height: 32px;\n",
              "      padding: 0 0 0 0;\n",
              "      width: 32px;\n",
              "    }\n",
              "\n",
              "    .colab-df-convert:hover {\n",
              "      background-color: #E2EBFA;\n",
              "      box-shadow: 0px 1px 2px rgba(60, 64, 67, 0.3), 0px 1px 3px 1px rgba(60, 64, 67, 0.15);\n",
              "      fill: #174EA6;\n",
              "    }\n",
              "\n",
              "    [theme=dark] .colab-df-convert {\n",
              "      background-color: #3B4455;\n",
              "      fill: #D2E3FC;\n",
              "    }\n",
              "\n",
              "    [theme=dark] .colab-df-convert:hover {\n",
              "      background-color: #434B5C;\n",
              "      box-shadow: 0px 1px 3px 1px rgba(0, 0, 0, 0.15);\n",
              "      filter: drop-shadow(0px 1px 2px rgba(0, 0, 0, 0.3));\n",
              "      fill: #FFFFFF;\n",
              "    }\n",
              "  </style>\n",
              "\n",
              "      <script>\n",
              "        const buttonEl =\n",
              "          document.querySelector('#df-24517cb5-f7fb-4233-a183-8cbc3bcee29b button.colab-df-convert');\n",
              "        buttonEl.style.display =\n",
              "          google.colab.kernel.accessAllowed ? 'block' : 'none';\n",
              "\n",
              "        async function convertToInteractive(key) {\n",
              "          const element = document.querySelector('#df-24517cb5-f7fb-4233-a183-8cbc3bcee29b');\n",
              "          const dataTable =\n",
              "            await google.colab.kernel.invokeFunction('convertToInteractive',\n",
              "                                                     [key], {});\n",
              "          if (!dataTable) return;\n",
              "\n",
              "          const docLinkHtml = 'Like what you see? Visit the ' +\n",
              "            '<a target=\"_blank\" href=https://colab.research.google.com/notebooks/data_table.ipynb>data table notebook</a>'\n",
              "            + ' to learn more about interactive tables.';\n",
              "          element.innerHTML = '';\n",
              "          dataTable['output_type'] = 'display_data';\n",
              "          await google.colab.output.renderOutput(dataTable, element);\n",
              "          const docLink = document.createElement('div');\n",
              "          docLink.innerHTML = docLinkHtml;\n",
              "          element.appendChild(docLink);\n",
              "        }\n",
              "      </script>\n",
              "    </div>\n",
              "  </div>\n",
              "  "
            ]
          },
          "metadata": {},
          "execution_count": 40
        }
      ]
    },
    {
      "cell_type": "code",
      "source": [
        "model_1g_df = model_1g.reset_index()\n",
        "model_1g_df = model_1g_df.rename(columns={0: \"tokens\"})\n",
        "model_1g_df['len'] = model_1g_df['tokens'].str.len()\n",
        "model_1g_df.head(10)"
      ],
      "metadata": {
        "colab": {
          "base_uri": "https://localhost:8080/",
          "height": 363
        },
        "id": "fwKB4q4aSpam",
        "outputId": "7fa11fbf-e308-490d-ed1d-0b8d9028d15e"
      },
      "id": "fwKB4q4aSpam",
      "execution_count": 41,
      "outputs": [
        {
          "output_type": "execute_result",
          "data": {
            "text/plain": [
              "  tokens  count      freq  len\n",
              "0   </s>   6212  0.044942    4\n",
              "1    <s>   6212  0.044942    3\n",
              "2    the   4511  0.032636    3\n",
              "3     to   4245  0.030711    2\n",
              "4     of   3728  0.026971    2\n",
              "5    and   3650  0.026407    3\n",
              "6    her   2226  0.016105    3\n",
              "7      i   2070  0.014976    1\n",
              "8      a   2006  0.014513    1\n",
              "9     in   1937  0.014014    2"
            ],
            "text/html": [
              "\n",
              "  <div id=\"df-73b50811-e8fa-4298-8a61-a76f6c782fe5\">\n",
              "    <div class=\"colab-df-container\">\n",
              "      <div>\n",
              "<style scoped>\n",
              "    .dataframe tbody tr th:only-of-type {\n",
              "        vertical-align: middle;\n",
              "    }\n",
              "\n",
              "    .dataframe tbody tr th {\n",
              "        vertical-align: top;\n",
              "    }\n",
              "\n",
              "    .dataframe thead th {\n",
              "        text-align: right;\n",
              "    }\n",
              "</style>\n",
              "<table border=\"1\" class=\"dataframe\">\n",
              "  <thead>\n",
              "    <tr style=\"text-align: right;\">\n",
              "      <th></th>\n",
              "      <th>tokens</th>\n",
              "      <th>count</th>\n",
              "      <th>freq</th>\n",
              "      <th>len</th>\n",
              "    </tr>\n",
              "  </thead>\n",
              "  <tbody>\n",
              "    <tr>\n",
              "      <th>0</th>\n",
              "      <td>&lt;/s&gt;</td>\n",
              "      <td>6212</td>\n",
              "      <td>0.044942</td>\n",
              "      <td>4</td>\n",
              "    </tr>\n",
              "    <tr>\n",
              "      <th>1</th>\n",
              "      <td>&lt;s&gt;</td>\n",
              "      <td>6212</td>\n",
              "      <td>0.044942</td>\n",
              "      <td>3</td>\n",
              "    </tr>\n",
              "    <tr>\n",
              "      <th>2</th>\n",
              "      <td>the</td>\n",
              "      <td>4511</td>\n",
              "      <td>0.032636</td>\n",
              "      <td>3</td>\n",
              "    </tr>\n",
              "    <tr>\n",
              "      <th>3</th>\n",
              "      <td>to</td>\n",
              "      <td>4245</td>\n",
              "      <td>0.030711</td>\n",
              "      <td>2</td>\n",
              "    </tr>\n",
              "    <tr>\n",
              "      <th>4</th>\n",
              "      <td>of</td>\n",
              "      <td>3728</td>\n",
              "      <td>0.026971</td>\n",
              "      <td>2</td>\n",
              "    </tr>\n",
              "    <tr>\n",
              "      <th>5</th>\n",
              "      <td>and</td>\n",
              "      <td>3650</td>\n",
              "      <td>0.026407</td>\n",
              "      <td>3</td>\n",
              "    </tr>\n",
              "    <tr>\n",
              "      <th>6</th>\n",
              "      <td>her</td>\n",
              "      <td>2226</td>\n",
              "      <td>0.016105</td>\n",
              "      <td>3</td>\n",
              "    </tr>\n",
              "    <tr>\n",
              "      <th>7</th>\n",
              "      <td>i</td>\n",
              "      <td>2070</td>\n",
              "      <td>0.014976</td>\n",
              "      <td>1</td>\n",
              "    </tr>\n",
              "    <tr>\n",
              "      <th>8</th>\n",
              "      <td>a</td>\n",
              "      <td>2006</td>\n",
              "      <td>0.014513</td>\n",
              "      <td>1</td>\n",
              "    </tr>\n",
              "    <tr>\n",
              "      <th>9</th>\n",
              "      <td>in</td>\n",
              "      <td>1937</td>\n",
              "      <td>0.014014</td>\n",
              "      <td>2</td>\n",
              "    </tr>\n",
              "  </tbody>\n",
              "</table>\n",
              "</div>\n",
              "      <button class=\"colab-df-convert\" onclick=\"convertToInteractive('df-73b50811-e8fa-4298-8a61-a76f6c782fe5')\"\n",
              "              title=\"Convert this dataframe to an interactive table.\"\n",
              "              style=\"display:none;\">\n",
              "        \n",
              "  <svg xmlns=\"http://www.w3.org/2000/svg\" height=\"24px\"viewBox=\"0 0 24 24\"\n",
              "       width=\"24px\">\n",
              "    <path d=\"M0 0h24v24H0V0z\" fill=\"none\"/>\n",
              "    <path d=\"M18.56 5.44l.94 2.06.94-2.06 2.06-.94-2.06-.94-.94-2.06-.94 2.06-2.06.94zm-11 1L8.5 8.5l.94-2.06 2.06-.94-2.06-.94L8.5 2.5l-.94 2.06-2.06.94zm10 10l.94 2.06.94-2.06 2.06-.94-2.06-.94-.94-2.06-.94 2.06-2.06.94z\"/><path d=\"M17.41 7.96l-1.37-1.37c-.4-.4-.92-.59-1.43-.59-.52 0-1.04.2-1.43.59L10.3 9.45l-7.72 7.72c-.78.78-.78 2.05 0 2.83L4 21.41c.39.39.9.59 1.41.59.51 0 1.02-.2 1.41-.59l7.78-7.78 2.81-2.81c.8-.78.8-2.07 0-2.86zM5.41 20L4 18.59l7.72-7.72 1.47 1.35L5.41 20z\"/>\n",
              "  </svg>\n",
              "      </button>\n",
              "      \n",
              "  <style>\n",
              "    .colab-df-container {\n",
              "      display:flex;\n",
              "      flex-wrap:wrap;\n",
              "      gap: 12px;\n",
              "    }\n",
              "\n",
              "    .colab-df-convert {\n",
              "      background-color: #E8F0FE;\n",
              "      border: none;\n",
              "      border-radius: 50%;\n",
              "      cursor: pointer;\n",
              "      display: none;\n",
              "      fill: #1967D2;\n",
              "      height: 32px;\n",
              "      padding: 0 0 0 0;\n",
              "      width: 32px;\n",
              "    }\n",
              "\n",
              "    .colab-df-convert:hover {\n",
              "      background-color: #E2EBFA;\n",
              "      box-shadow: 0px 1px 2px rgba(60, 64, 67, 0.3), 0px 1px 3px 1px rgba(60, 64, 67, 0.15);\n",
              "      fill: #174EA6;\n",
              "    }\n",
              "\n",
              "    [theme=dark] .colab-df-convert {\n",
              "      background-color: #3B4455;\n",
              "      fill: #D2E3FC;\n",
              "    }\n",
              "\n",
              "    [theme=dark] .colab-df-convert:hover {\n",
              "      background-color: #434B5C;\n",
              "      box-shadow: 0px 1px 3px 1px rgba(0, 0, 0, 0.15);\n",
              "      filter: drop-shadow(0px 1px 2px rgba(0, 0, 0, 0.3));\n",
              "      fill: #FFFFFF;\n",
              "    }\n",
              "  </style>\n",
              "\n",
              "      <script>\n",
              "        const buttonEl =\n",
              "          document.querySelector('#df-73b50811-e8fa-4298-8a61-a76f6c782fe5 button.colab-df-convert');\n",
              "        buttonEl.style.display =\n",
              "          google.colab.kernel.accessAllowed ? 'block' : 'none';\n",
              "\n",
              "        async function convertToInteractive(key) {\n",
              "          const element = document.querySelector('#df-73b50811-e8fa-4298-8a61-a76f6c782fe5');\n",
              "          const dataTable =\n",
              "            await google.colab.kernel.invokeFunction('convertToInteractive',\n",
              "                                                     [key], {});\n",
              "          if (!dataTable) return;\n",
              "\n",
              "          const docLinkHtml = 'Like what you see? Visit the ' +\n",
              "            '<a target=\"_blank\" href=https://colab.research.google.com/notebooks/data_table.ipynb>data table notebook</a>'\n",
              "            + ' to learn more about interactive tables.';\n",
              "          element.innerHTML = '';\n",
              "          dataTable['output_type'] = 'display_data';\n",
              "          await google.colab.output.renderOutput(dataTable, element);\n",
              "          const docLink = document.createElement('div');\n",
              "          docLink.innerHTML = docLinkHtml;\n",
              "          element.appendChild(docLink);\n",
              "        }\n",
              "      </script>\n",
              "    </div>\n",
              "  </div>\n",
              "  "
            ]
          },
          "metadata": {},
          "execution_count": 41
        }
      ]
    },
    {
      "cell_type": "code",
      "source": [
        "avg_letters_per_word = np.sum(model_1g_df['len'].values * model_1g_df['freq'].values)\n",
        "avg_letters_per_word"
      ],
      "metadata": {
        "colab": {
          "base_uri": "https://localhost:8080/"
        },
        "id": "lw8iloklS2xg",
        "outputId": "d124b9bb-9b4a-4cf7-98ba-8dde8f314569"
      },
      "id": "lw8iloklS2xg",
      "execution_count": 42,
      "outputs": [
        {
          "output_type": "execute_result",
          "data": {
            "text/plain": [
              "4.302361418587489"
            ]
          },
          "metadata": {},
          "execution_count": 42
        }
      ]
    },
    {
      "cell_type": "code",
      "source": [
        "entropy_per_word = -np.sum(model_1g.freq * np.log2(model_1g.freq))\n",
        "print(\"Entropy in bits per letter: \", entropy_per_word / avg_letters_per_word)"
      ],
      "metadata": {
        "colab": {
          "base_uri": "https://localhost:8080/"
        },
        "id": "L09DIcN0ndoC",
        "outputId": "f0e6dbff-dd23-40f4-b4ce-d7a19ee1c623"
      },
      "id": "L09DIcN0ndoC",
      "execution_count": 43,
      "outputs": [
        {
          "output_type": "stream",
          "name": "stdout",
          "text": [
            "Entropy in bits per letter:  2.048538088196709\n"
          ]
        }
      ]
    },
    {
      "cell_type": "markdown",
      "source": [
        "## Guessing game with word bigrams"
      ],
      "metadata": {
        "id": "-XFbZb0Hnswy"
      },
      "id": "-XFbZb0Hnswy"
    },
    {
      "cell_type": "markdown",
      "id": "812239bf",
      "metadata": {
        "id": "812239bf"
      },
      "source": [
        "(1) Build a word-bigram model based on the data; use this model to transform the text into a sequence of guess numbers. Plot the histogram of the sequence of guess numbers and report the entropy of the empirical distribution this histogram represents. "
      ]
    },
    {
      "cell_type": "code",
      "source": [
        "model_2g = build_ngram_model(text_simplified, 2)"
      ],
      "metadata": {
        "colab": {
          "base_uri": "https://localhost:8080/"
        },
        "id": "YuE_bj0_neVt",
        "outputId": "a5359585-3a3f-4c36-bc46-d82c0e5cf1b4"
      },
      "id": "YuE_bj0_neVt",
      "execution_count": 44,
      "outputs": [
        {
          "output_type": "stream",
          "name": "stdout",
          "text": [
            "Cleaning text...\n",
            "Extracting tokens...\n",
            "Counting tokens...\n",
            "Computing frequencies...\n",
            "Built a model with 53899 2-grams\n"
          ]
        }
      ]
    },
    {
      "cell_type": "code",
      "source": [
        "from tqdm import tqdm\n",
        "\n",
        "def token2guesses(token: list, state: list, model)->int:\n",
        "    # number of trials the model need\n",
        "    # to correctly guess the token\n",
        "    p_next_token = model.loc[state]  # list \n",
        "    p_next_token.loc[:, 'rnk'] = range(1, len(p_next_token)+1) # rank tokens\n",
        "    return p_next_token.loc[token]['rnk']  #  return the rank of the\n",
        "\n",
        "def encode_by_guesses(tokens: list, model: pd.DataFrame)->list:\n",
        "    \"\"\"\n",
        "    Transform list of \n",
        "    \"\"\"\n",
        "\n",
        "    list_of_guesses = []\n",
        "    prev_s = tokens[0] # the first symbol is always '<s>'\n",
        "\n",
        "    for s in tqdm(tokens[1:]):\n",
        "        list_of_guesses.append(token2guesses(s, prev_s, model))\n",
        "        prev_s = s\n",
        "    return list_of_guesses"
      ],
      "metadata": {
        "id": "7BMNLExJneSk"
      },
      "id": "7BMNLExJneSk",
      "execution_count": 45,
      "outputs": []
    },
    {
      "cell_type": "code",
      "source": [
        "tokens = to_tokens(text_simplified)\n",
        "guesses = encode_by_guesses(tokens, model_2g)"
      ],
      "metadata": {
        "colab": {
          "base_uri": "https://localhost:8080/"
        },
        "id": "6QVAkrdrnePj",
        "outputId": "3cd28947-557e-463c-ed23-6971fa4e999b"
      },
      "id": "6QVAkrdrnePj",
      "execution_count": 46,
      "outputs": [
        {
          "output_type": "stream",
          "name": "stderr",
          "text": [
            "  0%|          | 0/138221 [00:00<?, ?it/s]/usr/local/lib/python3.8/dist-packages/pandas/core/indexing.py:1667: SettingWithCopyWarning: \n",
            "A value is trying to be set on a copy of a slice from a DataFrame.\n",
            "Try using .loc[row_indexer,col_indexer] = value instead\n",
            "\n",
            "See the caveats in the documentation: https://pandas.pydata.org/pandas-docs/stable/user_guide/indexing.html#returning-a-view-versus-a-copy\n",
            "  self.obj[key] = value\n",
            "100%|██████████| 138221/138221 [03:37<00:00, 634.12it/s]\n"
          ]
        }
      ]
    },
    {
      "cell_type": "code",
      "source": [
        "tokens[:10]"
      ],
      "metadata": {
        "colab": {
          "base_uri": "https://localhost:8080/"
        },
        "id": "yl1FvtJCunA2",
        "outputId": "7a9e0ea6-01fd-46c4-c867-c481fff30dc0"
      },
      "id": "yl1FvtJCunA2",
      "execution_count": 47,
      "outputs": [
        {
          "output_type": "execute_result",
          "data": {
            "text/plain": [
              "['<s>',\n",
              " 'chapter',\n",
              " 'it',\n",
              " 'is',\n",
              " 'a',\n",
              " 'truth',\n",
              " 'universally',\n",
              " 'acknowledged',\n",
              " 'that',\n",
              " 'a']"
            ]
          },
          "metadata": {},
          "execution_count": 47
        }
      ]
    },
    {
      "cell_type": "code",
      "source": [
        "guesses[:10]"
      ],
      "metadata": {
        "colab": {
          "base_uri": "https://localhost:8080/"
        },
        "id": "exLfkQ35ui3S",
        "outputId": "67412e75-1ba0-4703-9852-16c9b61b5ff9"
      },
      "id": "exLfkQ35ui3S",
      "execution_count": 48,
      "outputs": [
        {
          "output_type": "execute_result",
          "data": {
            "text/plain": [
              "[26.0, 5.0, 2.0, 1.0, 481.0, 6.0, 1.0, 2.0, 14.0, 50.0]"
            ]
          },
          "metadata": {},
          "execution_count": 48
        }
      ]
    },
    {
      "cell_type": "code",
      "source": [
        "tokens_guesses_df = pd.DataFrame([tokens, guesses]).T\n",
        "tokens_guesses_df[:10]"
      ],
      "metadata": {
        "colab": {
          "base_uri": "https://localhost:8080/",
          "height": 363
        },
        "id": "Va7-7d5ApglZ",
        "outputId": "df3a2422-e6eb-4aeb-d836-9c7d7b9dc51d"
      },
      "id": "Va7-7d5ApglZ",
      "execution_count": 49,
      "outputs": [
        {
          "output_type": "execute_result",
          "data": {
            "text/plain": [
              "              0      1\n",
              "0           <s>   26.0\n",
              "1       chapter    5.0\n",
              "2            it    2.0\n",
              "3            is    1.0\n",
              "4             a  481.0\n",
              "5         truth    6.0\n",
              "6   universally    1.0\n",
              "7  acknowledged    2.0\n",
              "8          that   14.0\n",
              "9             a   50.0"
            ],
            "text/html": [
              "\n",
              "  <div id=\"df-9d20d9ba-6a7b-4b7d-84fb-02f41e758d3c\">\n",
              "    <div class=\"colab-df-container\">\n",
              "      <div>\n",
              "<style scoped>\n",
              "    .dataframe tbody tr th:only-of-type {\n",
              "        vertical-align: middle;\n",
              "    }\n",
              "\n",
              "    .dataframe tbody tr th {\n",
              "        vertical-align: top;\n",
              "    }\n",
              "\n",
              "    .dataframe thead th {\n",
              "        text-align: right;\n",
              "    }\n",
              "</style>\n",
              "<table border=\"1\" class=\"dataframe\">\n",
              "  <thead>\n",
              "    <tr style=\"text-align: right;\">\n",
              "      <th></th>\n",
              "      <th>0</th>\n",
              "      <th>1</th>\n",
              "    </tr>\n",
              "  </thead>\n",
              "  <tbody>\n",
              "    <tr>\n",
              "      <th>0</th>\n",
              "      <td>&lt;s&gt;</td>\n",
              "      <td>26.0</td>\n",
              "    </tr>\n",
              "    <tr>\n",
              "      <th>1</th>\n",
              "      <td>chapter</td>\n",
              "      <td>5.0</td>\n",
              "    </tr>\n",
              "    <tr>\n",
              "      <th>2</th>\n",
              "      <td>it</td>\n",
              "      <td>2.0</td>\n",
              "    </tr>\n",
              "    <tr>\n",
              "      <th>3</th>\n",
              "      <td>is</td>\n",
              "      <td>1.0</td>\n",
              "    </tr>\n",
              "    <tr>\n",
              "      <th>4</th>\n",
              "      <td>a</td>\n",
              "      <td>481.0</td>\n",
              "    </tr>\n",
              "    <tr>\n",
              "      <th>5</th>\n",
              "      <td>truth</td>\n",
              "      <td>6.0</td>\n",
              "    </tr>\n",
              "    <tr>\n",
              "      <th>6</th>\n",
              "      <td>universally</td>\n",
              "      <td>1.0</td>\n",
              "    </tr>\n",
              "    <tr>\n",
              "      <th>7</th>\n",
              "      <td>acknowledged</td>\n",
              "      <td>2.0</td>\n",
              "    </tr>\n",
              "    <tr>\n",
              "      <th>8</th>\n",
              "      <td>that</td>\n",
              "      <td>14.0</td>\n",
              "    </tr>\n",
              "    <tr>\n",
              "      <th>9</th>\n",
              "      <td>a</td>\n",
              "      <td>50.0</td>\n",
              "    </tr>\n",
              "  </tbody>\n",
              "</table>\n",
              "</div>\n",
              "      <button class=\"colab-df-convert\" onclick=\"convertToInteractive('df-9d20d9ba-6a7b-4b7d-84fb-02f41e758d3c')\"\n",
              "              title=\"Convert this dataframe to an interactive table.\"\n",
              "              style=\"display:none;\">\n",
              "        \n",
              "  <svg xmlns=\"http://www.w3.org/2000/svg\" height=\"24px\"viewBox=\"0 0 24 24\"\n",
              "       width=\"24px\">\n",
              "    <path d=\"M0 0h24v24H0V0z\" fill=\"none\"/>\n",
              "    <path d=\"M18.56 5.44l.94 2.06.94-2.06 2.06-.94-2.06-.94-.94-2.06-.94 2.06-2.06.94zm-11 1L8.5 8.5l.94-2.06 2.06-.94-2.06-.94L8.5 2.5l-.94 2.06-2.06.94zm10 10l.94 2.06.94-2.06 2.06-.94-2.06-.94-.94-2.06-.94 2.06-2.06.94z\"/><path d=\"M17.41 7.96l-1.37-1.37c-.4-.4-.92-.59-1.43-.59-.52 0-1.04.2-1.43.59L10.3 9.45l-7.72 7.72c-.78.78-.78 2.05 0 2.83L4 21.41c.39.39.9.59 1.41.59.51 0 1.02-.2 1.41-.59l7.78-7.78 2.81-2.81c.8-.78.8-2.07 0-2.86zM5.41 20L4 18.59l7.72-7.72 1.47 1.35L5.41 20z\"/>\n",
              "  </svg>\n",
              "      </button>\n",
              "      \n",
              "  <style>\n",
              "    .colab-df-container {\n",
              "      display:flex;\n",
              "      flex-wrap:wrap;\n",
              "      gap: 12px;\n",
              "    }\n",
              "\n",
              "    .colab-df-convert {\n",
              "      background-color: #E8F0FE;\n",
              "      border: none;\n",
              "      border-radius: 50%;\n",
              "      cursor: pointer;\n",
              "      display: none;\n",
              "      fill: #1967D2;\n",
              "      height: 32px;\n",
              "      padding: 0 0 0 0;\n",
              "      width: 32px;\n",
              "    }\n",
              "\n",
              "    .colab-df-convert:hover {\n",
              "      background-color: #E2EBFA;\n",
              "      box-shadow: 0px 1px 2px rgba(60, 64, 67, 0.3), 0px 1px 3px 1px rgba(60, 64, 67, 0.15);\n",
              "      fill: #174EA6;\n",
              "    }\n",
              "\n",
              "    [theme=dark] .colab-df-convert {\n",
              "      background-color: #3B4455;\n",
              "      fill: #D2E3FC;\n",
              "    }\n",
              "\n",
              "    [theme=dark] .colab-df-convert:hover {\n",
              "      background-color: #434B5C;\n",
              "      box-shadow: 0px 1px 3px 1px rgba(0, 0, 0, 0.15);\n",
              "      filter: drop-shadow(0px 1px 2px rgba(0, 0, 0, 0.3));\n",
              "      fill: #FFFFFF;\n",
              "    }\n",
              "  </style>\n",
              "\n",
              "      <script>\n",
              "        const buttonEl =\n",
              "          document.querySelector('#df-9d20d9ba-6a7b-4b7d-84fb-02f41e758d3c button.colab-df-convert');\n",
              "        buttonEl.style.display =\n",
              "          google.colab.kernel.accessAllowed ? 'block' : 'none';\n",
              "\n",
              "        async function convertToInteractive(key) {\n",
              "          const element = document.querySelector('#df-9d20d9ba-6a7b-4b7d-84fb-02f41e758d3c');\n",
              "          const dataTable =\n",
              "            await google.colab.kernel.invokeFunction('convertToInteractive',\n",
              "                                                     [key], {});\n",
              "          if (!dataTable) return;\n",
              "\n",
              "          const docLinkHtml = 'Like what you see? Visit the ' +\n",
              "            '<a target=\"_blank\" href=https://colab.research.google.com/notebooks/data_table.ipynb>data table notebook</a>'\n",
              "            + ' to learn more about interactive tables.';\n",
              "          element.innerHTML = '';\n",
              "          dataTable['output_type'] = 'display_data';\n",
              "          await google.colab.output.renderOutput(dataTable, element);\n",
              "          const docLink = document.createElement('div');\n",
              "          docLink.innerHTML = docLinkHtml;\n",
              "          element.appendChild(docLink);\n",
              "        }\n",
              "      </script>\n",
              "    </div>\n",
              "  </div>\n",
              "  "
            ]
          },
          "metadata": {},
          "execution_count": 49
        }
      ]
    },
    {
      "cell_type": "markdown",
      "source": [
        "### Plot histogram"
      ],
      "metadata": {
        "id": "rxIG149tg4Fl"
      },
      "id": "rxIG149tg4Fl"
    },
    {
      "cell_type": "code",
      "source": [
        "from matplotlib import pyplot as plt\n",
        "plt.hist(guesses)\n",
        "plt.title(\"Guess Histogram\")\n",
        "plt.show()"
      ],
      "metadata": {
        "colab": {
          "base_uri": "https://localhost:8080/",
          "height": 607
        },
        "id": "a5Fv28qDnx9I",
        "outputId": "3f32115d-714c-4944-b5d5-a41989803caa"
      },
      "id": "a5Fv28qDnx9I",
      "execution_count": 50,
      "outputs": [
        {
          "output_type": "display_data",
          "data": {
            "text/plain": [
              "<Figure size 1440x720 with 1 Axes>"
            ],
            "image/png": "[encoded data removed]"
          },
          "metadata": {
            "needs_background": "light"
          }
        }
      ]
    },
    {
      "cell_type": "markdown",
      "source": [
        "### Calculate Entropy"
      ],
      "metadata": {
        "id": "XnJpEE_rhNX4"
      },
      "id": "XnJpEE_rhNX4"
    },
    {
      "cell_type": "code",
      "source": [
        "def entropy(probs):\n",
        "    return -np.sum(probs[probs>0] * np.log2(probs[probs>0]))\n",
        "\n",
        "df = pd.DataFrame(pd.DataFrame({'guess' : guesses}).value_counts('guess'), columns=['count'])\n",
        "df['freq'] = df['count'] / df['count'].sum()\n",
        "\n",
        "print(\"Entropy in bits per letter: \", round(entropy(df.freq) / avg_letters_per_word, 3))"
      ],
      "metadata": {
        "colab": {
          "base_uri": "https://localhost:8080/"
        },
        "id": "hBHmeby8nx6O",
        "outputId": "2c36bb6f-91c5-43ef-b205-7108602af854"
      },
      "id": "hBHmeby8nx6O",
      "execution_count": 51,
      "outputs": [
        {
          "output_type": "stream",
          "name": "stdout",
          "text": [
            "Entropy in bits per letter:  1.355\n"
          ]
        }
      ]
    },
    {
      "cell_type": "markdown",
      "source": [
        "**The entropy of the empirical distribution is: 1.355**"
      ],
      "metadata": {
        "id": "8BkEAemOc0MY"
      },
      "id": "8BkEAemOc0MY"
    },
    {
      "cell_type": "markdown",
      "id": "942b3768",
      "metadata": {
        "id": "942b3768"
      },
      "source": [
        "(2) Build a decoder that recovers the original text from the sequence of guesses; conclude that guessing + model is an invertible transformation. "
      ]
    },
    {
      "cell_type": "code",
      "source": [
        "def guesses2tokens(guess, state: list, model)->int:\n",
        "    p_next_token = model.loc[state]\n",
        "    p_next_token.loc[:, 'rnk'] = range(1, len(p_next_token)+1)\n",
        "    return p_next_token[p_next_token['rnk'] == guess].index[0]\n",
        "\n",
        "def decode_by_guesses(guesses: list, model: pd.DataFrame)->list:\n",
        "    list_of_tokens = ['<s>']\n",
        "    prev_s = '<s>'\n",
        "\n",
        "    for s in tqdm(guesses[:]):\n",
        "        list_of_tokens.append(guesses2tokens(s, prev_s, model))\n",
        "        prev_s = list_of_tokens[-1]\n",
        "    return list_of_tokens"
      ],
      "metadata": {
        "id": "2ifY4f6znx24"
      },
      "id": "2ifY4f6znx24",
      "execution_count": 52,
      "outputs": []
    },
    {
      "cell_type": "code",
      "source": [
        "tokens_decoded = decode_by_guesses(guesses, model_2g)"
      ],
      "metadata": {
        "colab": {
          "base_uri": "https://localhost:8080/"
        },
        "id": "zM2dktzWnxzt",
        "outputId": "94a00da0-c498-4e26-a603-1ecb9bfe6766"
      },
      "id": "zM2dktzWnxzt",
      "execution_count": 53,
      "outputs": [
        {
          "output_type": "stream",
          "name": "stderr",
          "text": [
            "  0%|          | 0/138221 [00:00<?, ?it/s]/usr/local/lib/python3.8/dist-packages/pandas/core/indexing.py:1667: SettingWithCopyWarning: \n",
            "A value is trying to be set on a copy of a slice from a DataFrame.\n",
            "Try using .loc[row_indexer,col_indexer] = value instead\n",
            "\n",
            "See the caveats in the documentation: https://pandas.pydata.org/pandas-docs/stable/user_guide/indexing.html#returning-a-view-versus-a-copy\n",
            "  self.obj[key] = value\n",
            "100%|██████████| 138221/138221 [03:38<00:00, 633.25it/s]\n"
          ]
        }
      ]
    },
    {
      "cell_type": "code",
      "source": [
        "assert tokens_decoded == tokens"
      ],
      "metadata": {
        "id": "8KyrRO6YsPoX"
      },
      "id": "8KyrRO6YsPoX",
      "execution_count": 54,
      "outputs": []
    },
    {
      "cell_type": "markdown",
      "source": [
        "**As we can see by the assert function, we've received an invertible transformation, where the decoded tokens stream from the model is equal to our original tokens stream.**"
      ],
      "metadata": {
        "id": "DOCKrgf3OCxH"
      },
      "id": "DOCKrgf3OCxH"
    },
    {
      "cell_type": "markdown",
      "source": [
        "## Huffman coding"
      ],
      "metadata": {
        "id": "2bE8yoVmngfd"
      },
      "id": "2bE8yoVmngfd"
    },
    {
      "cell_type": "markdown",
      "id": "9ce69707",
      "metadata": {
        "id": "9ce69707"
      },
      "source": [
        "(3) Compress the sequence of guesses using a Huffman code. What is the average number of bits per **letter**?"
      ]
    },
    {
      "cell_type": "code",
      "source": [
        "guesses_space = [int(x) for x in guesses]"
      ],
      "metadata": {
        "id": "HSAIJR6907Zw"
      },
      "id": "HSAIJR6907Zw",
      "execution_count": 55,
      "outputs": []
    },
    {
      "cell_type": "code",
      "source": [
        "guesses_counts = dict()\n",
        "for i in guesses_space:\n",
        "  guesses_counts[i] = guesses_counts.get(i, 0) + 1"
      ],
      "metadata": {
        "id": "0ft9_ZxF07WM"
      },
      "id": "0ft9_ZxF07WM",
      "execution_count": 56,
      "outputs": []
    },
    {
      "cell_type": "code",
      "source": [
        "guesses_counts_df = pd.DataFrame(guesses_counts.items(), columns=['guesses', 'count'])\n",
        "guesses_counts_df['freq'] = guesses_counts_df['count'] / guesses_counts_df['count'].sum()\n",
        "guesses_counts_df = guesses_counts_df.sort_values(by=['freq'], ascending=False)\n",
        "guesses_counts_df"
      ],
      "metadata": {
        "colab": {
          "base_uri": "https://localhost:8080/",
          "height": 424
        },
        "id": "1Tc6-gdn1DTM",
        "outputId": "c92b5ebf-d33a-4594-9ecb-8bf5ffbf8a2c"
      },
      "id": "1Tc6-gdn1DTM",
      "execution_count": 57,
      "outputs": [
        {
          "output_type": "execute_result",
          "data": {
            "text/plain": [
              "      guesses  count      freq\n",
              "3           1  31437  0.227440\n",
              "2           2  12785  0.092497\n",
              "24          3   8600  0.062219\n",
              "9           4   6225  0.045037\n",
              "1           5   4924  0.035624\n",
              "...       ...    ...       ...\n",
              "636      1151      1  0.000007\n",
              "631      1104      1  0.000007\n",
              "1092     1083      1  0.000007\n",
              "626      1130      1  0.000007\n",
              "1289     1134      1  0.000007\n",
              "\n",
              "[1290 rows x 3 columns]"
            ],
            "text/html": [
              "\n",
              "  <div id=\"df-d0a9350a-684b-4a6e-ad65-270099cf6eec\">\n",
              "    <div class=\"colab-df-container\">\n",
              "      <div>\n",
              "<style scoped>\n",
              "    .dataframe tbody tr th:only-of-type {\n",
              "        vertical-align: middle;\n",
              "    }\n",
              "\n",
              "    .dataframe tbody tr th {\n",
              "        vertical-align: top;\n",
              "    }\n",
              "\n",
              "    .dataframe thead th {\n",
              "        text-align: right;\n",
              "    }\n",
              "</style>\n",
              "<table border=\"1\" class=\"dataframe\">\n",
              "  <thead>\n",
              "    <tr style=\"text-align: right;\">\n",
              "      <th></th>\n",
              "      <th>guesses</th>\n",
              "      <th>count</th>\n",
              "      <th>freq</th>\n",
              "    </tr>\n",
              "  </thead>\n",
              "  <tbody>\n",
              "    <tr>\n",
              "      <th>3</th>\n",
              "      <td>1</td>\n",
              "      <td>31437</td>\n",
              "      <td>0.227440</td>\n",
              "    </tr>\n",
              "    <tr>\n",
              "      <th>2</th>\n",
              "      <td>2</td>\n",
              "      <td>12785</td>\n",
              "      <td>0.092497</td>\n",
              "    </tr>\n",
              "    <tr>\n",
              "      <th>24</th>\n",
              "      <td>3</td>\n",
              "      <td>8600</td>\n",
              "      <td>0.062219</td>\n",
              "    </tr>\n",
              "    <tr>\n",
              "      <th>9</th>\n",
              "      <td>4</td>\n",
              "      <td>6225</td>\n",
              "      <td>0.045037</td>\n",
              "    </tr>\n",
              "    <tr>\n",
              "      <th>1</th>\n",
              "      <td>5</td>\n",
              "      <td>4924</td>\n",
              "      <td>0.035624</td>\n",
              "    </tr>\n",
              "    <tr>\n",
              "      <th>...</th>\n",
              "      <td>...</td>\n",
              "      <td>...</td>\n",
              "      <td>...</td>\n",
              "    </tr>\n",
              "    <tr>\n",
              "      <th>636</th>\n",
              "      <td>1151</td>\n",
              "      <td>1</td>\n",
              "      <td>0.000007</td>\n",
              "    </tr>\n",
              "    <tr>\n",
              "      <th>631</th>\n",
              "      <td>1104</td>\n",
              "      <td>1</td>\n",
              "      <td>0.000007</td>\n",
              "    </tr>\n",
              "    <tr>\n",
              "      <th>1092</th>\n",
              "      <td>1083</td>\n",
              "      <td>1</td>\n",
              "      <td>0.000007</td>\n",
              "    </tr>\n",
              "    <tr>\n",
              "      <th>626</th>\n",
              "      <td>1130</td>\n",
              "      <td>1</td>\n",
              "      <td>0.000007</td>\n",
              "    </tr>\n",
              "    <tr>\n",
              "      <th>1289</th>\n",
              "      <td>1134</td>\n",
              "      <td>1</td>\n",
              "      <td>0.000007</td>\n",
              "    </tr>\n",
              "  </tbody>\n",
              "</table>\n",
              "<p>1290 rows × 3 columns</p>\n",
              "</div>\n",
              "      <button class=\"colab-df-convert\" onclick=\"convertToInteractive('df-d0a9350a-684b-4a6e-ad65-270099cf6eec')\"\n",
              "              title=\"Convert this dataframe to an interactive table.\"\n",
              "              style=\"display:none;\">\n",
              "        \n",
              "  <svg xmlns=\"http://www.w3.org/2000/svg\" height=\"24px\"viewBox=\"0 0 24 24\"\n",
              "       width=\"24px\">\n",
              "    <path d=\"M0 0h24v24H0V0z\" fill=\"none\"/>\n",
              "    <path d=\"M18.56 5.44l.94 2.06.94-2.06 2.06-.94-2.06-.94-.94-2.06-.94 2.06-2.06.94zm-11 1L8.5 8.5l.94-2.06 2.06-.94-2.06-.94L8.5 2.5l-.94 2.06-2.06.94zm10 10l.94 2.06.94-2.06 2.06-.94-2.06-.94-.94-2.06-.94 2.06-2.06.94z\"/><path d=\"M17.41 7.96l-1.37-1.37c-.4-.4-.92-.59-1.43-.59-.52 0-1.04.2-1.43.59L10.3 9.45l-7.72 7.72c-.78.78-.78 2.05 0 2.83L4 21.41c.39.39.9.59 1.41.59.51 0 1.02-.2 1.41-.59l7.78-7.78 2.81-2.81c.8-.78.8-2.07 0-2.86zM5.41 20L4 18.59l7.72-7.72 1.47 1.35L5.41 20z\"/>\n",
              "  </svg>\n",
              "      </button>\n",
              "      \n",
              "  <style>\n",
              "    .colab-df-container {\n",
              "      display:flex;\n",
              "      flex-wrap:wrap;\n",
              "      gap: 12px;\n",
              "    }\n",
              "\n",
              "    .colab-df-convert {\n",
              "      background-color: #E8F0FE;\n",
              "      border: none;\n",
              "      border-radius: 50%;\n",
              "      cursor: pointer;\n",
              "      display: none;\n",
              "      fill: #1967D2;\n",
              "      height: 32px;\n",
              "      padding: 0 0 0 0;\n",
              "      width: 32px;\n",
              "    }\n",
              "\n",
              "    .colab-df-convert:hover {\n",
              "      background-color: #E2EBFA;\n",
              "      box-shadow: 0px 1px 2px rgba(60, 64, 67, 0.3), 0px 1px 3px 1px rgba(60, 64, 67, 0.15);\n",
              "      fill: #174EA6;\n",
              "    }\n",
              "\n",
              "    [theme=dark] .colab-df-convert {\n",
              "      background-color: #3B4455;\n",
              "      fill: #D2E3FC;\n",
              "    }\n",
              "\n",
              "    [theme=dark] .colab-df-convert:hover {\n",
              "      background-color: #434B5C;\n",
              "      box-shadow: 0px 1px 3px 1px rgba(0, 0, 0, 0.15);\n",
              "      filter: drop-shadow(0px 1px 2px rgba(0, 0, 0, 0.3));\n",
              "      fill: #FFFFFF;\n",
              "    }\n",
              "  </style>\n",
              "\n",
              "      <script>\n",
              "        const buttonEl =\n",
              "          document.querySelector('#df-d0a9350a-684b-4a6e-ad65-270099cf6eec button.colab-df-convert');\n",
              "        buttonEl.style.display =\n",
              "          google.colab.kernel.accessAllowed ? 'block' : 'none';\n",
              "\n",
              "        async function convertToInteractive(key) {\n",
              "          const element = document.querySelector('#df-d0a9350a-684b-4a6e-ad65-270099cf6eec');\n",
              "          const dataTable =\n",
              "            await google.colab.kernel.invokeFunction('convertToInteractive',\n",
              "                                                     [key], {});\n",
              "          if (!dataTable) return;\n",
              "\n",
              "          const docLinkHtml = 'Like what you see? Visit the ' +\n",
              "            '<a target=\"_blank\" href=https://colab.research.google.com/notebooks/data_table.ipynb>data table notebook</a>'\n",
              "            + ' to learn more about interactive tables.';\n",
              "          element.innerHTML = '';\n",
              "          dataTable['output_type'] = 'display_data';\n",
              "          await google.colab.output.renderOutput(dataTable, element);\n",
              "          const docLink = document.createElement('div');\n",
              "          docLink.innerHTML = docLinkHtml;\n",
              "          element.appendChild(docLink);\n",
              "        }\n",
              "      </script>\n",
              "    </div>\n",
              "  </div>\n",
              "  "
            ]
          },
          "metadata": {},
          "execution_count": 57
        }
      ]
    },
    {
      "cell_type": "code",
      "source": [
        "guesses_codec = HuffmanCodec.from_frequencies(guesses_counts)\n",
        "guesses_codec.print_code_table()"
      ],
      "metadata": {
        "colab": {
          "base_uri": "https://localhost:8080/"
        },
        "id": "K_OWUGJT07R7",
        "outputId": "dd56e733-fb9c-4ea6-beab-eacbca4bbb0c"
      },
      "id": "K_OWUGJT07R7",
      "execution_count": 58,
      "outputs": [
        {
          "output_type": "stream",
          "name": "stdout",
          "text": [
            "Bits Code              Value Symbol\n",
            "   3 000                   0 2\n",
            "   5 00100                 4 7\n",
            "   8 00101000             40 41\n",
            "  11 00101001000         328 193\n",
            "  13 0010100100100      1316 392\n",
            "  13 0010100100101      1317 393\n",
            "  12 001010010011        659 272\n",
            "  11 00101001010         330 191\n",
            "  11 00101001011         331 192\n",
            "   9 001010011            83 70\n",
            "   9 001010100            84 69\n",
            "  12 001010101000        680 273\n",
            "  12 001010101001        681 274\n",
            "  11 00101010101         341 183\n",
            "  11 00101010110         342 184\n",
            "  11 00101010111         343 185\n",
            "  11 00101011000         344 186\n",
            "  11 00101011001         345 187\n",
            "  11 00101011010         346 188\n",
            "  11 00101011011         347 189\n",
            "  11 00101011100         348 190\n",
            "  12 001010111010        698 275\n",
            "  12 001010111011        699 271\n",
            "  10 0010101111          175 114\n",
            "   6 001011               11 13\n",
            "   9 001100000            96 68\n",
            "  11 00110000100         388 181\n",
            "  11 00110000101         389 182\n",
            "  13 0011000011000      1560 369\n",
            "  13 0011000011001      1561 370\n",
            "  13 0011000011010      1562 371\n",
            "  13 0011000011011      1563 372\n",
            "  13 0011000011100      1564 373\n",
            "  13 0011000011101      1565 374\n",
            "  13 0011000011110      1566 375\n",
            "  13 0011000011111      1567 376\n",
            "   8 00110001             49 40\n",
            "   7 0011001              25 23\n",
            "  13 0011010000000      1664 377\n",
            "  13 0011010000001      1665 378\n",
            "  13 0011010000010      1666 379\n",
            "  13 0011010000011      1667 380\n",
            "  13 0011010000100      1668 381\n",
            "  13 0011010000101      1669 382\n",
            "  13 0011010000110      1670 383\n",
            "  13 0011010000111      1671 384\n",
            "  13 0011010001000      1672 385\n",
            "  13 0011010001001      1673 386\n",
            "  13 0011010001010      1674 387\n",
            "  13 0011010001011      1675 388\n",
            "  13 0011010001100      1676 389\n",
            "  14 00110100011010     3354 583\n",
            "  14 00110100011011     3355 584\n",
            "  14 00110100011100     3356 585\n",
            "  14 00110100011101     3357 586\n",
            "  14 00110100011110     3358 587\n",
            "  14 00110100011111     3359 588\n",
            "   9 001101001           105 67\n",
            "   9 001101010           106 66\n",
            "  10 0011010110          214 113\n",
            "  14 00110101110000     3440 589\n",
            "  14 00110101110001     3441 590\n",
            "  14 00110101110010     3442 591\n",
            "  14 00110101110011     3443 592\n",
            "  12 001101011101        861 269\n",
            "  11 00110101111         431 179\n",
            "   8 00110110             54 39\n",
            "  10 0011011100          220 111\n",
            "  10 0011011101          221 112\n",
            "   9 001101111           111 65\n",
            "  11 00111000000         448 180\n",
            "  12 001110000010        898 270\n",
            "  14 00111000001100     3596 593\n",
            "  14 00111000001101     3597 594\n",
            "  13 0011100000111      1799 365\n",
            "  10 0011100001          225 110\n",
            "   9 001110001           113 64\n",
            "   8 00111001             57 38\n",
            "   7 0011101              29 22\n",
            "   6 001111               15 12\n",
            "   2 01                    1 1\n",
            "  11 10000000000        1024 178\n",
            "  11 10000000001        1025 176\n",
            "  10 1000000001          513 109\n",
            "  11 10000000100        1028 177\n",
            "  12 100000001010       2058 266\n",
            "  12 100000001011       2059 267\n",
            "  10 1000000011          515 107\n",
            "   8 10000001            129 37\n",
            "  10 1000001000          520 108\n",
            "  12 100000100100       2084 268\n",
            "  13 1000001001010      4170 366\n",
            "  13 1000001001011      4171 367\n",
            "  11 10000010011        1043 172\n",
            "  10 1000001010          522 106\n",
            "  11 10000010110        1046 173\n",
            "  11 10000010111        1047 174\n",
            "   9 100000110           262 63\n",
            "  11 10000011100        1052 175\n",
            "  11 10000011101        1053 168\n",
            "  11 10000011110        1054 169\n",
            "  11 10000011111        1055 170\n",
            "   7 1000010              66 21\n",
            "   9 100001100           268 62\n",
            "  11 10000110100        1076 171\n",
            "  13 1000011010100      4308 368\n",
            "  14 10000110101010     8618 595\n",
            "  17 10000110101011000 68952 _EOF\n",
            "  17 10000110101011001 68953 1042\n",
            "  16 1000011010101101  34477 775\n",
            "  15 100001101010111   17239 672\n",
            "  12 100001101011       2155 265\n",
            "  10 1000011011          539 105\n",
            "   8 10000111            135 36\n",
            "   5 10001                17 6\n",
            "  11 10010000000        1152 167\n",
            "  13 1001000000100      4612 347\n",
            "  13 1001000000101      4613 348\n",
            "  13 1001000000110      4614 349\n",
            "  13 1001000000111      4615 350\n",
            "  10 1001000001          577 104\n",
            "  13 1001000010000      4624 351\n",
            "  13 1001000010001      4625 352\n",
            "  13 1001000010010      4626 353\n",
            "  13 1001000010011      4627 354\n",
            "  13 1001000010100      4628 355\n",
            "  13 1001000010101      4629 356\n",
            "  13 1001000010110      4630 357\n",
            "  13 1001000010111      4631 358\n",
            "  13 1001000011000      4632 359\n",
            "  13 1001000011001      4633 360\n",
            "  13 1001000011010      4634 361\n",
            "  13 1001000011011      4635 362\n",
            "  13 1001000011100      4636 363\n",
            "  13 1001000011101      4637 364\n",
            "  14 10010000111100     9276 528\n",
            "  14 10010000111101     9277 529\n",
            "  14 10010000111110     9278 530\n",
            "  14 10010000111111     9279 531\n",
            "  14 10010001000000     9280 532\n",
            "  14 10010001000001     9281 533\n",
            "  14 10010001000010     9282 534\n",
            "  14 10010001000011     9283 535\n",
            "  14 10010001000100     9284 536\n",
            "  14 10010001000101     9285 537\n",
            "  14 10010001000110     9286 538\n",
            "  14 10010001000111     9287 539\n",
            "  14 10010001001000     9288 540\n",
            "  14 10010001001001     9289 541\n",
            "  14 10010001001010     9290 542\n",
            "  14 10010001001011     9291 543\n",
            "  14 10010001001100     9292 544\n",
            "  14 10010001001101     9293 545\n",
            "  14 10010001001110     9294 546\n",
            "  14 10010001001111     9295 547\n",
            "  14 10010001010000     9296 548\n",
            "  14 10010001010001     9297 549\n",
            "  14 10010001010010     9298 550\n",
            "  14 10010001010011     9299 551\n",
            "  14 10010001010100     9300 552\n",
            "  14 10010001010101     9301 553\n",
            "  14 10010001010110     9302 554\n",
            "  14 10010001010111     9303 555\n",
            "  14 10010001011000     9304 556\n",
            "  14 10010001011001     9305 557\n",
            "  14 10010001011010     9306 558\n",
            "  14 10010001011011     9307 559\n",
            "  14 10010001011100     9308 560\n",
            "  14 10010001011101     9309 561\n",
            "  14 10010001011110     9310 562\n",
            "  14 10010001011111     9311 563\n",
            "  14 10010001100000     9312 564\n",
            "  14 10010001100001     9313 565\n",
            "  14 10010001100010     9314 566\n",
            "  14 10010001100011     9315 567\n",
            "  14 10010001100100     9316 568\n",
            "  14 10010001100101     9317 569\n",
            "  14 10010001100110     9318 570\n",
            "  14 10010001100111     9319 571\n",
            "  14 10010001101000     9320 572\n",
            "  14 10010001101001     9321 573\n",
            "  14 10010001101010     9322 574\n",
            "  14 10010001101011     9323 575\n",
            "  14 10010001101100     9324 576\n",
            "  14 10010001101101     9325 577\n",
            "  14 10010001101110     9326 578\n",
            "  14 10010001101111     9327 579\n",
            "  14 10010001110000     9328 580\n",
            "  14 10010001110001     9329 581\n",
            "  14 10010001110010     9330 582\n",
            "  15 100100011100110   18662 673\n",
            "  15 100100011100111   18663 674\n",
            "  15 100100011101000   18664 675\n",
            "  15 100100011101001   18665 676\n",
            "  15 100100011101010   18666 677\n",
            "  15 100100011101011   18667 678\n",
            "  15 100100011101100   18668 679\n",
            "  15 100100011101101   18669 680\n",
            "  15 100100011101110   18670 681\n",
            "  15 100100011101111   18671 682\n",
            "  15 100100011110000   18672 683\n",
            "  15 100100011110001   18673 684\n",
            "  15 100100011110010   18674 685\n",
            "  15 100100011110011   18675 686\n",
            "  15 100100011110100   18676 687\n",
            "  15 100100011110101   18677 688\n",
            "  15 100100011110110   18678 689\n",
            "  15 100100011110111   18679 690\n",
            "  15 100100011111000   18680 691\n",
            "  15 100100011111001   18681 692\n",
            "  15 100100011111010   18682 693\n",
            "  15 100100011111011   18683 694\n",
            "  15 100100011111100   18684 695\n",
            "  15 100100011111101   18685 696\n",
            "  15 100100011111110   18686 697\n",
            "  15 100100011111111   18687 698\n",
            "  15 100100100000000   18688 699\n",
            "  15 100100100000001   18689 700\n",
            "  15 100100100000010   18690 701\n",
            "  15 100100100000011   18691 702\n",
            "  15 100100100000100   18692 703\n",
            "  15 100100100000101   18693 704\n",
            "  15 100100100000110   18694 705\n",
            "  15 100100100000111   18695 706\n",
            "  15 100100100001000   18696 707\n",
            "  15 100100100001001   18697 708\n",
            "  15 100100100001010   18698 709\n",
            "  15 100100100001011   18699 710\n",
            "  15 100100100001100   18700 711\n",
            "  15 100100100001101   18701 712\n",
            "  16 1001001000011100  37404 776\n",
            "  16 1001001000011101  37405 777\n",
            "  16 1001001000011110  37406 778\n",
            "  16 1001001000011111  37407 779\n",
            "  16 1001001000100000  37408 780\n",
            "  16 1001001000100001  37409 781\n",
            "  16 1001001000100010  37410 782\n",
            "  16 1001001000100011  37411 783\n",
            "  16 1001001000100100  37412 784\n",
            "  16 1001001000100101  37413 785\n",
            "  16 1001001000100110  37414 786\n",
            "  16 1001001000100111  37415 787\n",
            "  16 1001001000101000  37416 788\n",
            "  16 1001001000101001  37417 789\n",
            "  16 1001001000101010  37418 790\n",
            "  16 1001001000101011  37419 791\n",
            "  16 1001001000101100  37420 792\n",
            "  16 1001001000101101  37421 793\n",
            "  16 1001001000101110  37422 794\n",
            "  16 1001001000101111  37423 795\n",
            "  16 1001001000110000  37424 796\n",
            "  16 1001001000110001  37425 797\n",
            "  16 1001001000110010  37426 798\n",
            "  16 1001001000110011  37427 799\n",
            "  16 1001001000110100  37428 800\n",
            "  16 1001001000110101  37429 801\n",
            "  16 1001001000110110  37430 802\n",
            "  16 1001001000110111  37431 803\n",
            "  16 1001001000111000  37432 804\n",
            "  16 1001001000111001  37433 805\n",
            "  16 1001001000111010  37434 806\n",
            "  16 1001001000111011  37435 807\n",
            "  16 1001001000111100  37436 808\n",
            "  16 1001001000111101  37437 809\n",
            "  16 1001001000111110  37438 810\n",
            "  16 1001001000111111  37439 811\n",
            "  16 1001001001000000  37440 812\n",
            "  16 1001001001000001  37441 813\n",
            "  16 1001001001000010  37442 814\n",
            "  16 1001001001000011  37443 815\n",
            "  16 1001001001000100  37444 816\n",
            "  16 1001001001000101  37445 817\n",
            "  16 1001001001000110  37446 818\n",
            "  16 1001001001000111  37447 819\n",
            "  16 1001001001001000  37448 820\n",
            "  16 1001001001001001  37449 821\n",
            "  16 1001001001001010  37450 822\n",
            "  16 1001001001001011  37451 823\n",
            "  16 1001001001001100  37452 824\n",
            "  16 1001001001001101  37453 825\n",
            "  16 1001001001001110  37454 826\n",
            "  16 1001001001001111  37455 827\n",
            "  16 1001001001010000  37456 828\n",
            "  16 1001001001010001  37457 829\n",
            "  16 1001001001010010  37458 830\n",
            "  16 1001001001010011  37459 831\n",
            "  16 1001001001010100  37460 832\n",
            "  16 1001001001010101  37461 833\n",
            "  16 1001001001010110  37462 834\n",
            "  16 1001001001010111  37463 835\n",
            "  16 1001001001011000  37464 836\n",
            "  16 1001001001011001  37465 837\n",
            "  16 1001001001011010  37466 838\n",
            "  16 1001001001011011  37467 839\n",
            "  16 1001001001011100  37468 840\n",
            "  16 1001001001011101  37469 841\n",
            "  16 1001001001011110  37470 842\n",
            "  16 1001001001011111  37471 843\n",
            "  16 1001001001100000  37472 844\n",
            "  16 1001001001100001  37473 845\n",
            "  16 1001001001100010  37474 846\n",
            "  16 1001001001100011  37475 847\n",
            "  16 1001001001100100  37476 848\n",
            "  16 1001001001100101  37477 849\n",
            "  16 1001001001100110  37478 850\n",
            "  16 1001001001100111  37479 851\n",
            "  16 1001001001101000  37480 852\n",
            "  16 1001001001101001  37481 853\n",
            "  16 1001001001101010  37482 854\n",
            "  16 1001001001101011  37483 855\n",
            "  16 1001001001101100  37484 856\n",
            "  16 1001001001101101  37485 857\n",
            "  16 1001001001101110  37486 858\n",
            "  16 1001001001101111  37487 859\n",
            "  16 1001001001110000  37488 860\n",
            "  16 1001001001110001  37489 861\n",
            "  16 1001001001110010  37490 862\n",
            "  16 1001001001110011  37491 863\n",
            "  16 1001001001110100  37492 864\n",
            "  16 1001001001110101  37493 865\n",
            "  16 1001001001110110  37494 866\n",
            "  16 1001001001110111  37495 867\n",
            "  16 1001001001111000  37496 868\n",
            "  16 1001001001111001  37497 869\n",
            "  16 1001001001111010  37498 870\n",
            "  16 1001001001111011  37499 871\n",
            "  16 1001001001111100  37500 872\n",
            "  16 1001001001111101  37501 873\n",
            "  16 1001001001111110  37502 874\n",
            "  16 1001001001111111  37503 875\n",
            "  16 1001001010000000  37504 876\n",
            "  16 1001001010000001  37505 877\n",
            "  16 1001001010000010  37506 878\n",
            "  16 1001001010000011  37507 879\n",
            "  16 1001001010000100  37508 880\n",
            "  16 1001001010000101  37509 881\n",
            "  16 1001001010000110  37510 882\n",
            "  16 1001001010000111  37511 883\n",
            "  16 1001001010001000  37512 884\n",
            "  16 1001001010001001  37513 885\n",
            "  16 1001001010001010  37514 886\n",
            "  16 1001001010001011  37515 887\n",
            "  16 1001001010001100  37516 888\n",
            "  16 1001001010001101  37517 889\n",
            "  16 1001001010001110  37518 890\n",
            "  16 1001001010001111  37519 891\n",
            "  16 1001001010010000  37520 892\n",
            "  16 1001001010010001  37521 893\n",
            "  16 1001001010010010  37522 894\n",
            "  16 1001001010010011  37523 895\n",
            "  16 1001001010010100  37524 896\n",
            "  16 1001001010010101  37525 897\n",
            "  16 1001001010010110  37526 898\n",
            "  16 1001001010010111  37527 899\n",
            "  16 1001001010011000  37528 900\n",
            "  16 1001001010011001  37529 901\n",
            "  16 1001001010011010  37530 902\n",
            "  16 1001001010011011  37531 903\n",
            "  16 1001001010011100  37532 904\n",
            "  16 1001001010011101  37533 905\n",
            "  16 1001001010011110  37534 906\n",
            "  16 1001001010011111  37535 907\n",
            "  16 1001001010100000  37536 908\n",
            "  16 1001001010100001  37537 909\n",
            "  16 1001001010100010  37538 910\n",
            "  16 1001001010100011  37539 911\n",
            "  16 1001001010100100  37540 912\n",
            "  16 1001001010100101  37541 913\n",
            "  16 1001001010100110  37542 914\n",
            "  16 1001001010100111  37543 915\n",
            "  16 1001001010101000  37544 916\n",
            "  16 1001001010101001  37545 917\n",
            "  16 1001001010101010  37546 918\n",
            "  16 1001001010101011  37547 919\n",
            "  16 1001001010101100  37548 920\n",
            "  16 1001001010101101  37549 921\n",
            "  16 1001001010101110  37550 922\n",
            "  16 1001001010101111  37551 923\n",
            "  16 1001001010110000  37552 924\n",
            "  16 1001001010110001  37553 925\n",
            "  16 1001001010110010  37554 926\n",
            "  16 1001001010110011  37555 927\n",
            "  16 1001001010110100  37556 928\n",
            "  16 1001001010110101  37557 929\n",
            "  16 1001001010110110  37558 930\n",
            "  16 1001001010110111  37559 931\n",
            "  16 1001001010111000  37560 932\n",
            "  16 1001001010111001  37561 933\n",
            "  16 1001001010111010  37562 934\n",
            "  16 1001001010111011  37563 935\n",
            "  16 1001001010111100  37564 936\n",
            "  16 1001001010111101  37565 937\n",
            "  16 1001001010111110  37566 938\n",
            "  16 1001001010111111  37567 939\n",
            "  16 1001001011000000  37568 940\n",
            "  16 1001001011000001  37569 941\n",
            "  16 1001001011000010  37570 942\n",
            "  16 1001001011000011  37571 943\n",
            "  16 1001001011000100  37572 944\n",
            "  16 1001001011000101  37573 945\n",
            "  16 1001001011000110  37574 946\n",
            "  16 1001001011000111  37575 947\n",
            "  16 1001001011001000  37576 948\n",
            "  16 1001001011001001  37577 949\n",
            "  16 1001001011001010  37578 950\n",
            "  16 1001001011001011  37579 951\n",
            "  16 1001001011001100  37580 952\n",
            "  16 1001001011001101  37581 953\n",
            "  16 1001001011001110  37582 954\n",
            "  16 1001001011001111  37583 955\n",
            "  16 1001001011010000  37584 956\n",
            "  16 1001001011010001  37585 957\n",
            "  16 1001001011010010  37586 958\n",
            "  16 1001001011010011  37587 959\n",
            "  16 1001001011010100  37588 960\n",
            "  16 1001001011010101  37589 961\n",
            "  16 1001001011010110  37590 962\n",
            "  16 1001001011010111  37591 963\n",
            "  16 1001001011011000  37592 964\n",
            "  16 1001001011011001  37593 965\n",
            "  16 1001001011011010  37594 966\n",
            "  16 1001001011011011  37595 967\n",
            "  16 1001001011011100  37596 968\n",
            "  16 1001001011011101  37597 969\n",
            "  16 1001001011011110  37598 970\n",
            "  16 1001001011011111  37599 971\n",
            "  16 1001001011100000  37600 972\n",
            "  16 1001001011100001  37601 973\n",
            "  16 1001001011100010  37602 974\n",
            "  16 1001001011100011  37603 975\n",
            "  16 1001001011100100  37604 976\n",
            "  16 1001001011100101  37605 977\n",
            "  16 1001001011100110  37606 978\n",
            "  16 1001001011100111  37607 979\n",
            "  16 1001001011101000  37608 980\n",
            "  16 1001001011101001  37609 981\n",
            "  16 1001001011101010  37610 982\n",
            "  16 1001001011101011  37611 983\n",
            "  16 1001001011101100  37612 984\n",
            "  16 1001001011101101  37613 985\n",
            "  16 1001001011101110  37614 986\n",
            "  16 1001001011101111  37615 987\n",
            "  16 1001001011110000  37616 988\n",
            "  16 1001001011110001  37617 989\n",
            "  16 1001001011110010  37618 990\n",
            "  16 1001001011110011  37619 991\n",
            "  16 1001001011110100  37620 992\n",
            "  16 1001001011110101  37621 993\n",
            "  16 1001001011110110  37622 994\n",
            "  16 1001001011110111  37623 995\n",
            "  16 1001001011111000  37624 996\n",
            "  16 1001001011111001  37625 997\n",
            "  16 1001001011111010  37626 998\n",
            "  16 1001001011111011  37627 999\n",
            "  16 1001001011111100  37628 1000\n",
            "  16 1001001011111101  37629 1001\n",
            "  16 1001001011111110  37630 1002\n",
            "  16 1001001011111111  37631 1003\n",
            "  16 1001001100000000  37632 1004\n",
            "  16 1001001100000001  37633 1005\n",
            "  16 1001001100000010  37634 1006\n",
            "  16 1001001100000011  37635 1007\n",
            "  16 1001001100000100  37636 1008\n",
            "  16 1001001100000101  37637 1009\n",
            "  16 1001001100000110  37638 1010\n",
            "  16 1001001100000111  37639 1011\n",
            "  16 1001001100001000  37640 1012\n",
            "  16 1001001100001001  37641 1013\n",
            "  16 1001001100001010  37642 1014\n",
            "  16 1001001100001011  37643 1015\n",
            "  16 1001001100001100  37644 1016\n",
            "  16 1001001100001101  37645 1017\n",
            "  16 1001001100001110  37646 1018\n",
            "  16 1001001100001111  37647 1019\n",
            "  16 1001001100010000  37648 1020\n",
            "  16 1001001100010001  37649 1021\n",
            "  16 1001001100010010  37650 1022\n",
            "  16 1001001100010011  37651 1023\n",
            "  16 1001001100010100  37652 1024\n",
            "  16 1001001100010101  37653 1025\n",
            "  16 1001001100010110  37654 1026\n",
            "  16 1001001100010111  37655 1027\n",
            "  16 1001001100011000  37656 1028\n",
            "  16 1001001100011001  37657 1029\n",
            "  16 1001001100011010  37658 1030\n",
            "  16 1001001100011011  37659 1031\n",
            "  16 1001001100011100  37660 1032\n",
            "  16 1001001100011101  37661 1033\n",
            "  16 1001001100011110  37662 1034\n",
            "  16 1001001100011111  37663 1035\n",
            "  16 1001001100100000  37664 1036\n",
            "  16 1001001100100001  37665 1037\n",
            "  16 1001001100100010  37666 1038\n",
            "  16 1001001100100011  37667 1039\n",
            "  16 1001001100100100  37668 1040\n",
            "  16 1001001100100101  37669 1041\n",
            "  17 10010011001001100 75340 1043\n",
            "  17 10010011001001101 75341 1044\n",
            "  17 10010011001001110 75342 1045\n",
            "  17 10010011001001111 75343 1046\n",
            "  17 10010011001010000 75344 1047\n",
            "  17 10010011001010001 75345 1048\n",
            "  17 10010011001010010 75346 1049\n",
            "  17 10010011001010011 75347 1050\n",
            "  17 10010011001010100 75348 1051\n",
            "  17 10010011001010101 75349 1052\n",
            "  17 10010011001010110 75350 1053\n",
            "  17 10010011001010111 75351 1054\n",
            "  17 10010011001011000 75352 1055\n",
            "  17 10010011001011001 75353 1056\n",
            "  17 10010011001011010 75354 1057\n",
            "  17 10010011001011011 75355 1058\n",
            "  17 10010011001011100 75356 1059\n",
            "  17 10010011001011101 75357 1060\n",
            "  17 10010011001011110 75358 1061\n",
            "  17 10010011001011111 75359 1062\n",
            "  17 10010011001100000 75360 1063\n",
            "  17 10010011001100001 75361 1064\n",
            "  17 10010011001100010 75362 1065\n",
            "  17 10010011001100011 75363 1066\n",
            "  17 10010011001100100 75364 1067\n",
            "  17 10010011001100101 75365 1068\n",
            "  17 10010011001100110 75366 1069\n",
            "  17 10010011001100111 75367 1070\n",
            "  17 10010011001101000 75368 1071\n",
            "  17 10010011001101001 75369 1072\n",
            "  17 10010011001101010 75370 1073\n",
            "  17 10010011001101011 75371 1074\n",
            "  17 10010011001101100 75372 1075\n",
            "  17 10010011001101101 75373 1076\n",
            "  17 10010011001101110 75374 1077\n",
            "  17 10010011001101111 75375 1078\n",
            "  17 10010011001110000 75376 1079\n",
            "  17 10010011001110001 75377 1080\n",
            "  17 10010011001110010 75378 1081\n",
            "  17 10010011001110011 75379 1082\n",
            "  17 10010011001110100 75380 1083\n",
            "  17 10010011001110101 75381 1084\n",
            "  17 10010011001110110 75382 1085\n",
            "  17 10010011001110111 75383 1086\n",
            "  17 10010011001111000 75384 1087\n",
            "  17 10010011001111001 75385 1088\n",
            "  17 10010011001111010 75386 1089\n",
            "  17 10010011001111011 75387 1090\n",
            "  17 10010011001111100 75388 1091\n",
            "  17 10010011001111101 75389 1092\n",
            "  17 10010011001111110 75390 1093\n",
            "  17 10010011001111111 75391 1094\n",
            "  17 10010011010000000 75392 1095\n",
            "  17 10010011010000001 75393 1096\n",
            "  17 10010011010000010 75394 1097\n",
            "  17 10010011010000011 75395 1098\n",
            "  17 10010011010000100 75396 1099\n",
            "  17 10010011010000101 75397 1100\n",
            "  17 10010011010000110 75398 1101\n",
            "  17 10010011010000111 75399 1102\n",
            "  17 10010011010001000 75400 1103\n",
            "  17 10010011010001001 75401 1104\n",
            "  17 10010011010001010 75402 1105\n",
            "  17 10010011010001011 75403 1106\n",
            "  17 10010011010001100 75404 1107\n",
            "  17 10010011010001101 75405 1108\n",
            "  17 10010011010001110 75406 1109\n",
            "  17 10010011010001111 75407 1110\n",
            "  17 10010011010010000 75408 1111\n",
            "  17 10010011010010001 75409 1112\n",
            "  17 10010011010010010 75410 1113\n",
            "  17 10010011010010011 75411 1114\n",
            "  17 10010011010010100 75412 1115\n",
            "  17 10010011010010101 75413 1116\n",
            "  17 10010011010010110 75414 1117\n",
            "  17 10010011010010111 75415 1118\n",
            "  17 10010011010011000 75416 1119\n",
            "  17 10010011010011001 75417 1120\n",
            "  17 10010011010011010 75418 1121\n",
            "  17 10010011010011011 75419 1122\n",
            "  17 10010011010011100 75420 1123\n",
            "  17 10010011010011101 75421 1124\n",
            "  17 10010011010011110 75422 1125\n",
            "  17 10010011010011111 75423 1126\n",
            "  17 10010011010100000 75424 1127\n",
            "  17 10010011010100001 75425 1128\n",
            "  17 10010011010100010 75426 1129\n",
            "  17 10010011010100011 75427 1130\n",
            "  17 10010011010100100 75428 1131\n",
            "  17 10010011010100101 75429 1132\n",
            "  17 10010011010100110 75430 1133\n",
            "  17 10010011010100111 75431 1134\n",
            "  17 10010011010101000 75432 1135\n",
            "  17 10010011010101001 75433 1136\n",
            "  17 10010011010101010 75434 1137\n",
            "  17 10010011010101011 75435 1138\n",
            "  17 10010011010101100 75436 1139\n",
            "  17 10010011010101101 75437 1140\n",
            "  17 10010011010101110 75438 1141\n",
            "  17 10010011010101111 75439 1142\n",
            "  17 10010011010110000 75440 1143\n",
            "  17 10010011010110001 75441 1144\n",
            "  17 10010011010110010 75442 1145\n",
            "  17 10010011010110011 75443 1146\n",
            "  17 10010011010110100 75444 1147\n",
            "  17 10010011010110101 75445 1148\n",
            "  17 10010011010110110 75446 1149\n",
            "  17 10010011010110111 75447 1150\n",
            "  17 10010011010111000 75448 1151\n",
            "  17 10010011010111001 75449 1152\n",
            "  17 10010011010111010 75450 1153\n",
            "  17 10010011010111011 75451 1154\n",
            "  17 10010011010111100 75452 1155\n",
            "  17 10010011010111101 75453 1156\n",
            "  17 10010011010111110 75454 1157\n",
            "  17 10010011010111111 75455 1158\n",
            "  17 10010011011000000 75456 1159\n",
            "  17 10010011011000001 75457 1160\n",
            "  17 10010011011000010 75458 1161\n",
            "  17 10010011011000011 75459 1162\n",
            "  17 10010011011000100 75460 1163\n",
            "  17 10010011011000101 75461 1164\n",
            "  17 10010011011000110 75462 1165\n",
            "  17 10010011011000111 75463 1166\n",
            "  17 10010011011001000 75464 1167\n",
            "  17 10010011011001001 75465 1168\n",
            "  17 10010011011001010 75466 1169\n",
            "  17 10010011011001011 75467 1170\n",
            "  17 10010011011001100 75468 1171\n",
            "  17 10010011011001101 75469 1172\n",
            "  17 10010011011001110 75470 1173\n",
            "  17 10010011011001111 75471 1174\n",
            "  17 10010011011010000 75472 1175\n",
            "  17 10010011011010001 75473 1176\n",
            "  17 10010011011010010 75474 1177\n",
            "  17 10010011011010011 75475 1178\n",
            "  17 10010011011010100 75476 1179\n",
            "  17 10010011011010101 75477 1180\n",
            "  17 10010011011010110 75478 1181\n",
            "  17 10010011011010111 75479 1182\n",
            "  17 10010011011011000 75480 1183\n",
            "  17 10010011011011001 75481 1184\n",
            "  17 10010011011011010 75482 1185\n",
            "  17 10010011011011011 75483 1186\n",
            "  17 10010011011011100 75484 1187\n",
            "  17 10010011011011101 75485 1188\n",
            "  17 10010011011011110 75486 1189\n",
            "  17 10010011011011111 75487 1190\n",
            "  17 10010011011100000 75488 1191\n",
            "  17 10010011011100001 75489 1192\n",
            "  17 10010011011100010 75490 1193\n",
            "  17 10010011011100011 75491 1194\n",
            "  17 10010011011100100 75492 1195\n",
            "  17 10010011011100101 75493 1196\n",
            "  17 10010011011100110 75494 1197\n",
            "  17 10010011011100111 75495 1198\n",
            "  17 10010011011101000 75496 1199\n",
            "  17 10010011011101001 75497 1200\n",
            "  17 10010011011101010 75498 1201\n",
            "  17 10010011011101011 75499 1202\n",
            "  17 10010011011101100 75500 1203\n",
            "  17 10010011011101101 75501 1204\n",
            "  17 10010011011101110 75502 1205\n",
            "  17 10010011011101111 75503 1206\n",
            "  17 10010011011110000 75504 1207\n",
            "  17 10010011011110001 75505 1208\n",
            "  17 10010011011110010 75506 1209\n",
            "  17 10010011011110011 75507 1210\n",
            "  17 10010011011110100 75508 1211\n",
            "  17 10010011011110101 75509 1212\n",
            "  17 10010011011110110 75510 1213\n",
            "  17 10010011011110111 75511 1214\n",
            "  17 10010011011111000 75512 1215\n",
            "  17 10010011011111001 75513 1216\n",
            "  17 10010011011111010 75514 1217\n",
            "  17 10010011011111011 75515 1218\n",
            "  17 10010011011111100 75516 1219\n",
            "  17 10010011011111101 75517 1220\n",
            "  17 10010011011111110 75518 1221\n",
            "  17 10010011011111111 75519 1222\n",
            "   9 100100111           295 61\n",
            "  10 1001010000          592 103\n",
            "  17 10010100010000000 75904 1223\n",
            "  17 10010100010000001 75905 1224\n",
            "  17 10010100010000010 75906 1225\n",
            "  17 10010100010000011 75907 1226\n",
            "  17 10010100010000100 75908 1227\n",
            "  17 10010100010000101 75909 1228\n",
            "  17 10010100010000110 75910 1229\n",
            "  17 10010100010000111 75911 1230\n",
            "  17 10010100010001000 75912 1231\n",
            "  17 10010100010001001 75913 1232\n",
            "  17 10010100010001010 75914 1233\n",
            "  17 10010100010001011 75915 1234\n",
            "  17 10010100010001100 75916 1235\n",
            "  17 10010100010001101 75917 1236\n",
            "  17 10010100010001110 75918 1237\n",
            "  17 10010100010001111 75919 1238\n",
            "  17 10010100010010000 75920 1239\n",
            "  17 10010100010010001 75921 1240\n",
            "  17 10010100010010010 75922 1241\n",
            "  17 10010100010010011 75923 1242\n",
            "  17 10010100010010100 75924 1243\n",
            "  17 10010100010010101 75925 1244\n",
            "  17 10010100010010110 75926 1245\n",
            "  17 10010100010010111 75927 1246\n",
            "  17 10010100010011000 75928 1247\n",
            "  17 10010100010011001 75929 1248\n",
            "  17 10010100010011010 75930 1249\n",
            "  17 10010100010011011 75931 1250\n",
            "  17 10010100010011100 75932 1251\n",
            "  17 10010100010011101 75933 1252\n",
            "  17 10010100010011110 75934 1253\n",
            "  17 10010100010011111 75935 1254\n",
            "  17 10010100010100000 75936 1255\n",
            "  17 10010100010100001 75937 1256\n",
            "  17 10010100010100010 75938 1257\n",
            "  17 10010100010100011 75939 1258\n",
            "  17 10010100010100100 75940 1259\n",
            "  17 10010100010100101 75941 1260\n",
            "  17 10010100010100110 75942 1261\n",
            "  17 10010100010100111 75943 1262\n",
            "  17 10010100010101000 75944 1263\n",
            "  17 10010100010101001 75945 1264\n",
            "  17 10010100010101010 75946 1265\n",
            "  17 10010100010101011 75947 1266\n",
            "  17 10010100010101100 75948 1267\n",
            "  17 10010100010101101 75949 1268\n",
            "  17 10010100010101110 75950 1269\n",
            "  17 10010100010101111 75951 1270\n",
            "  17 10010100010110000 75952 1271\n",
            "  17 10010100010110001 75953 1272\n",
            "  17 10010100010110010 75954 1273\n",
            "  17 10010100010110011 75955 1274\n",
            "  17 10010100010110100 75956 1275\n",
            "  17 10010100010110101 75957 1276\n",
            "  17 10010100010110110 75958 1277\n",
            "  17 10010100010110111 75959 1278\n",
            "  17 10010100010111000 75960 1279\n",
            "  17 10010100010111001 75961 1280\n",
            "  17 10010100010111010 75962 1281\n",
            "  17 10010100010111011 75963 1282\n",
            "  17 10010100010111100 75964 1283\n",
            "  17 10010100010111101 75965 1284\n",
            "  17 10010100010111110 75966 1285\n",
            "  17 10010100010111111 75967 1286\n",
            "  11 10010100011        1187 164\n",
            "  11 10010100100        1188 165\n",
            "  11 10010100101        1189 166\n",
            "  10 1001010011          595 102\n",
            "   8 10010101            149 35\n",
            "   9 100101100           300 60\n",
            "  11 10010110100        1204 160\n",
            "  11 10010110101        1205 161\n",
            "  11 10010110110        1206 162\n",
            "  11 10010110111        1207 163\n",
            "   9 100101110           302 59\n",
            "  10 1001011110          606 101\n",
            "  10 1001011111          607 100\n",
            "   6 100110               38 11\n",
            "   7 1001110              78 20\n",
            "  11 10011110000        1264 156\n",
            "  11 10011110001        1265 157\n",
            "  11 10011110010        1266 158\n",
            "  11 10011110011        1267 159\n",
            "   9 100111101           317 58\n",
            "  10 1001111100          636 99\n",
            "  12 100111110100       2548 264\n",
            "  12 100111110101       2549 263\n",
            "  11 10011111011        1275 155\n",
            "  13 1001111110000      5104 321\n",
            "  13 1001111110001      5105 338\n",
            "  13 1001111110010      5106 339\n",
            "  13 1001111110011      5107 340\n",
            "  13 1001111110100      5108 341\n",
            "  13 1001111110101      5109 342\n",
            "  13 1001111110110      5110 343\n",
            "  13 1001111110111      5111 344\n",
            "  10 1001111111          639 98\n",
            "   4 1010                 10 3\n",
            "   8 10110000            176 34\n",
            "   9 101100010           354 57\n",
            "  11 10110001100        1420 154\n",
            "  13 1011000110100      5684 345\n",
            "  13 1011000110101      5685 346\n",
            "  12 101100011011       2843 258\n",
            "  12 101100011100       2844 259\n",
            "  12 101100011101       2845 260\n",
            "  12 101100011110       2846 261\n",
            "  12 101100011111       2847 262\n",
            "   8 10110010            178 33\n",
            "   9 101100110           358 56\n",
            "  10 1011001110          718 97\n",
            "  11 10110011110        1438 153\n",
            "  12 101100111110       2878 249\n",
            "  12 101100111111       2879 250\n",
            "   7 1011010              90 19\n",
            "   9 101101100           364 55\n",
            "  12 101101101000       2920 251\n",
            "  12 101101101001       2921 252\n",
            "  12 101101101010       2922 253\n",
            "  12 101101101011       2923 254\n",
            "  12 101101101100       2924 255\n",
            "  12 101101101101       2925 256\n",
            "  12 101101101110       2926 257\n",
            "  13 1011011011110      5854 312\n",
            "  13 1011011011111      5855 313\n",
            "  13 1011011100000      5856 314\n",
            "  13 1011011100001      5857 315\n",
            "  13 1011011100010      5858 316\n",
            "  13 1011011100011      5859 317\n",
            "  13 1011011100100      5860 318\n",
            "  13 1011011100101      5861 319\n",
            "  13 1011011100110      5862 320\n",
            "  13 1011011100111      5863 322\n",
            "  13 1011011101000      5864 323\n",
            "  13 1011011101001      5865 324\n",
            "  13 1011011101010      5866 325\n",
            "  13 1011011101011      5867 326\n",
            "  13 1011011101100      5868 327\n",
            "  13 1011011101101      5869 328\n",
            "  13 1011011101110      5870 329\n",
            "  13 1011011101111      5871 330\n",
            "  13 1011011110000      5872 331\n",
            "  13 1011011110001      5873 332\n",
            "  13 1011011110010      5874 333\n",
            "  13 1011011110011      5875 334\n",
            "  13 1011011110100      5876 335\n",
            "  13 1011011110101      5877 336\n",
            "  13 1011011110110      5878 337\n",
            "  14 10110111101110    11758 513\n",
            "  14 10110111101111    11759 514\n",
            "  14 10110111110000    11760 515\n",
            "  14 10110111110001    11761 516\n",
            "  14 10110111110010    11762 517\n",
            "  14 10110111110011    11763 518\n",
            "  14 10110111110100    11764 519\n",
            "  14 10110111110101    11765 520\n",
            "  14 10110111110110    11766 521\n",
            "  14 10110111110111    11767 522\n",
            "  11 10110111111        1471 152\n",
            "   9 101110000           368 54\n",
            "  10 1011100010          738 96\n",
            "  14 10111000110000    11824 523\n",
            "  14 10111000110001    11825 524\n",
            "  14 10111000110010    11826 525\n",
            "  14 10111000110011    11827 526\n",
            "  12 101110001101       2957 245\n",
            "  11 10111000111        1479 150\n",
            "   8 10111001            185 32\n",
            "  11 10111010000        1488 151\n",
            "  12 101110100010       2978 246\n",
            "  12 101110100011       2979 247\n",
            "  12 101110100100       2980 248\n",
            "  14 10111010010100    11924 527\n",
            "  17 10111010010101000 95400 1287\n",
            "  17 10111010010101001 95401 1288\n",
            "  17 10111010010101010 95402 1289\n",
            "  17 10111010010101011 95403 1290\n",
            "  15 101110100101011   23851 630\n",
            "  13 1011101001011      5963 311\n",
            "  11 10111010011        1491 148\n",
            "   9 101110101           373 53\n",
            "  10 1011101100          748 94\n",
            "  10 1011101101          749 95\n",
            "  10 1011101110          750 93\n",
            "  11 10111011110        1502 149\n",
            "  11 10111011111        1503 146\n",
            "   6 101111               47 10\n",
            "   5 11000                24 5\n",
            "   7 1100100             100 18\n",
            "   9 110010100           404 52\n",
            "  10 1100101010          810 92\n",
            "  11 11001010110        1622 147\n",
            "  12 110010101110       3246 243\n",
            "  12 110010101111       3247 244\n",
            "   8 11001011            203 31\n",
            "  10 1100110000          816 91\n",
            "  11 11001100010        1634 145\n",
            "  11 11001100011        1635 143\n",
            "  10 1100110010          818 90\n",
            "  11 11001100110        1638 144\n",
            "  12 110011001110       3278 239\n",
            "  12 110011001111       3279 240\n",
            "   9 110011010           410 51\n",
            "  12 110011011000       3288 241\n",
            "  12 110011011001       3289 242\n",
            "  11 11001101101        1645 141\n",
            "  10 1100110111          823 89\n",
            "  11 11001110000        1648 142\n",
            "  12 110011100010       3298 234\n",
            "  12 110011100011       3299 235\n",
            "  12 110011100100       3300 236\n",
            "  12 110011100101       3301 237\n",
            "  12 110011100110       3302 238\n",
            "  13 1100111001110      6606 302\n",
            "  13 1100111001111      6607 303\n",
            "  13 1100111010000      6608 304\n",
            "  13 1100111010001      6609 305\n",
            "  13 1100111010010      6610 306\n",
            "  13 1100111010011      6611 307\n",
            "  13 1100111010100      6612 308\n",
            "  13 1100111010101      6613 309\n",
            "  13 1100111010110      6614 310\n",
            "  14 11001110101110    13230 460\n",
            "  14 11001110101111    13231 461\n",
            "  14 11001110110000    13232 462\n",
            "  14 11001110110001    13233 463\n",
            "  14 11001110110010    13234 464\n",
            "  14 11001110110011    13235 465\n",
            "  14 11001110110100    13236 466\n",
            "  14 11001110110101    13237 467\n",
            "  14 11001110110110    13238 468\n",
            "  14 11001110110111    13239 469\n",
            "  14 11001110111000    13240 470\n",
            "  14 11001110111001    13241 471\n",
            "  14 11001110111010    13242 472\n",
            "  14 11001110111011    13243 473\n",
            "  14 11001110111100    13244 474\n",
            "  14 11001110111101    13245 475\n",
            "  14 11001110111110    13246 476\n",
            "  14 11001110111111    13247 477\n",
            "  14 11001111000000    13248 478\n",
            "  14 11001111000001    13249 479\n",
            "  14 11001111000010    13250 480\n",
            "  14 11001111000011    13251 481\n",
            "  14 11001111000100    13252 482\n",
            "  14 11001111000101    13253 483\n",
            "  14 11001111000110    13254 484\n",
            "  14 11001111000111    13255 485\n",
            "  14 11001111001000    13256 486\n",
            "  14 11001111001001    13257 487\n",
            "  14 11001111001010    13258 488\n",
            "  14 11001111001011    13259 489\n",
            "  14 11001111001100    13260 490\n",
            "  14 11001111001101    13261 491\n",
            "  14 11001111001110    13262 492\n",
            "  14 11001111001111    13263 493\n",
            "  14 11001111010000    13264 494\n",
            "  14 11001111010001    13265 495\n",
            "  14 11001111010010    13266 496\n",
            "  14 11001111010011    13267 497\n",
            "  14 11001111010100    13268 498\n",
            "  14 11001111010101    13269 499\n",
            "  14 11001111010110    13270 500\n",
            "  14 11001111010111    13271 501\n",
            "  14 11001111011000    13272 502\n",
            "  14 11001111011001    13273 503\n",
            "  14 11001111011010    13274 504\n",
            "  14 11001111011011    13275 505\n",
            "  14 11001111011100    13276 506\n",
            "  14 11001111011101    13277 507\n",
            "  14 11001111011110    13278 508\n",
            "  14 11001111011111    13279 509\n",
            "  14 11001111100000    13280 510\n",
            "  14 11001111100001    13281 511\n",
            "  14 11001111100010    13282 512\n",
            "  15 110011111000110   26566 631\n",
            "  15 110011111000111   26567 632\n",
            "  15 110011111001000   26568 633\n",
            "  15 110011111001001   26569 634\n",
            "  15 110011111001010   26570 635\n",
            "  15 110011111001011   26571 636\n",
            "  15 110011111001100   26572 637\n",
            "  15 110011111001101   26573 638\n",
            "  15 110011111001110   26574 639\n",
            "  15 110011111001111   26575 640\n",
            "  15 110011111010000   26576 641\n",
            "  15 110011111010001   26577 642\n",
            "  15 110011111010010   26578 643\n",
            "  15 110011111010011   26579 644\n",
            "  15 110011111010100   26580 645\n",
            "  15 110011111010101   26581 646\n",
            "  15 110011111010110   26582 647\n",
            "  15 110011111010111   26583 648\n",
            "  15 110011111011000   26584 649\n",
            "  15 110011111011001   26585 650\n",
            "  15 110011111011010   26586 651\n",
            "  15 110011111011011   26587 652\n",
            "  15 110011111011100   26588 653\n",
            "  15 110011111011101   26589 654\n",
            "  15 110011111011110   26590 655\n",
            "  15 110011111011111   26591 656\n",
            "  10 1100111111          831 88\n",
            "   7 1101000             104 17\n",
            "   8 11010010            210 30\n",
            "   9 110100110           422 50\n",
            "  11 11010011100        1692 140\n",
            "  15 110100111010000   27088 657\n",
            "  15 110100111010001   27089 658\n",
            "  15 110100111010010   27090 659\n",
            "  15 110100111010011   27091 660\n",
            "  15 110100111010100   27092 661\n",
            "  15 110100111010101   27093 662\n",
            "  15 110100111010110   27094 663\n",
            "  15 110100111010111   27095 664\n",
            "  12 110100111011       3387 224\n",
            "  10 1101001111          847 87\n",
            "   6 110101               53 9\n",
            "  12 110110000000       3456 225\n",
            "  12 110110000001       3457 226\n",
            "  12 110110000010       3458 227\n",
            "  12 110110000011       3459 228\n",
            "  12 110110000100       3460 229\n",
            "  12 110110000101       3461 230\n",
            "  12 110110000110       3462 231\n",
            "  12 110110000111       3463 232\n",
            "   9 110110001           433 49\n",
            "  10 1101100100          868 86\n",
            "  12 110110010100       3476 233\n",
            "  15 110110010101000   27816 665\n",
            "  15 110110010101001   27817 666\n",
            "  15 110110010101010   27818 667\n",
            "  15 110110010101011   27819 668\n",
            "  13 1101100101011      6955 297\n",
            "  11 11011001011        1739 139\n",
            "  10 1101100110          870 85\n",
            "  11 11011001110        1742 138\n",
            "  12 110110011110       3486 221\n",
            "  12 110110011111       3487 222\n",
            "   8 11011010            218 29\n",
            "  10 1101101100          876 84\n",
            "  12 110110110100       3508 223\n",
            "  13 1101101101010      7018 298\n",
            "  13 1101101101011      7019 299\n",
            "  13 1101101101100      7020 300\n",
            "  13 1101101101101      7021 301\n",
            "  12 110110110111       3511 219\n",
            "   9 110110111           439 48\n",
            "   7 1101110             110 16\n",
            "  10 1101111000          888 83\n",
            "  11 11011110010        1778 137\n",
            "  12 110111100110       3558 220\n",
            "  15 110111100111000   28472 669\n",
            "  15 110111100111001   28473 670\n",
            "  14 11011110011101    14237 417\n",
            "  13 1101111001111      7119 287\n",
            "   9 110111101           445 47\n",
            "  10 1101111100          892 82\n",
            "  11 11011111010        1786 136\n",
            "  12 110111110110       3574 217\n",
            "  12 110111110111       3575 218\n",
            "  13 1101111110000      7152 288\n",
            "  13 1101111110001      7153 289\n",
            "  13 1101111110010      7154 290\n",
            "  13 1101111110011      7155 291\n",
            "  13 1101111110100      7156 292\n",
            "  13 1101111110101      7157 293\n",
            "  13 1101111110110      7158 294\n",
            "  13 1101111110111      7159 295\n",
            "  13 1101111111000      7160 296\n",
            "  14 11011111110010    14322 418\n",
            "  14 11011111110011    14323 419\n",
            "  14 11011111110100    14324 420\n",
            "  14 11011111110101    14325 421\n",
            "  14 11011111110110    14326 422\n",
            "  14 11011111110111    14327 423\n",
            "  14 11011111111000    14328 424\n",
            "  14 11011111111001    14329 425\n",
            "  14 11011111111010    14330 426\n",
            "  14 11011111111011    14331 427\n",
            "  14 11011111111100    14332 428\n",
            "  14 11011111111101    14333 429\n",
            "  14 11011111111110    14334 430\n",
            "  14 11011111111111    14335 431\n",
            "   8 11100000            224 28\n",
            "  14 11100001000000    14400 432\n",
            "  14 11100001000001    14401 433\n",
            "  14 11100001000010    14402 434\n",
            "  14 11100001000011    14403 435\n",
            "  14 11100001000100    14404 436\n",
            "  14 11100001000101    14405 437\n",
            "  14 11100001000110    14406 438\n",
            "  14 11100001000111    14407 439\n",
            "  14 11100001001000    14408 440\n",
            "  14 11100001001001    14409 441\n",
            "  14 11100001001010    14410 442\n",
            "  14 11100001001011    14411 443\n",
            "  14 11100001001100    14412 444\n",
            "  14 11100001001101    14413 445\n",
            "  14 11100001001110    14414 446\n",
            "  14 11100001001111    14415 447\n",
            "  10 1110000101          901 81\n",
            "  14 11100001100000    14432 448\n",
            "  14 11100001100001    14433 449\n",
            "  14 11100001100010    14434 450\n",
            "  14 11100001100011    14435 451\n",
            "  14 11100001100100    14436 452\n",
            "  14 11100001100101    14437 453\n",
            "  14 11100001100110    14438 454\n",
            "  14 11100001100111    14439 455\n",
            "  11 11100001101        1805 134\n",
            "  11 11100001110        1806 135\n",
            "  14 11100001111000    14456 456\n",
            "  14 11100001111001    14457 457\n",
            "  14 11100001111010    14458 458\n",
            "  14 11100001111011    14459 459\n",
            "  12 111000011111       3615 213\n",
            "   9 111000100           452 46\n",
            "  11 11100010100        1812 133\n",
            "  12 111000101010       3626 214\n",
            "  12 111000101011       3627 215\n",
            "  10 1110001011          907 80\n",
            "   8 11100011            227 27\n",
            "   7 1110010             114 15\n",
            "  11 11100110000        1840 132\n",
            "  12 111001100010       3682 216\n",
            "  13 1110011000110      7366 285\n",
            "  13 1110011000111      7367 286\n",
            "  10 1110011001          921 79\n",
            "  11 11100110100        1844 131\n",
            "  11 11100110101        1845 129\n",
            "  10 1110011011          923 78\n",
            "   9 111001110           462 45\n",
            "  11 11100111100        1852 130\n",
            "  11 11100111101        1853 127\n",
            "  11 11100111110        1854 128\n",
            "  12 111001111110       3710 211\n",
            "  12 111001111111       3711 212\n",
            "   6 111010               58 8\n",
            "  10 1110110000          944 77\n",
            "  11 11101100010        1890 126\n",
            "  15 111011000110000   30256 671\n",
            "  15 111011000110001   30257 596\n",
            "  14 11101100011001    15129 394\n",
            "  13 1110110001101      7565 279\n",
            "  12 111011000111       3783 210\n",
            "  10 1110110010          946 76\n",
            "  11 11101100110        1894 125\n",
            "  13 1110110011100      7580 280\n",
            "  13 1110110011101      7581 281\n",
            "  13 1110110011110      7582 282\n",
            "  13 1110110011111      7583 283\n",
            "  13 1110110100000      7584 284\n",
            "  14 11101101000010    15170 395\n",
            "  14 11101101000011    15171 396\n",
            "  14 11101101000100    15172 397\n",
            "  14 11101101000101    15173 398\n",
            "  14 11101101000110    15174 399\n",
            "  14 11101101000111    15175 400\n",
            "  14 11101101001000    15176 401\n",
            "  14 11101101001001    15177 402\n",
            "  14 11101101001010    15178 403\n",
            "  14 11101101001011    15179 404\n",
            "  14 11101101001100    15180 405\n",
            "  14 11101101001101    15181 406\n",
            "  14 11101101001110    15182 407\n",
            "  14 11101101001111    15183 408\n",
            "  14 11101101010000    15184 409\n",
            "  14 11101101010001    15185 410\n",
            "  14 11101101010010    15186 411\n",
            "  14 11101101010011    15187 412\n",
            "  14 11101101010100    15188 413\n",
            "  14 11101101010101    15189 414\n",
            "  14 11101101010110    15190 415\n",
            "  14 11101101010111    15191 416\n",
            "  15 111011010110000   30384 597\n",
            "  15 111011010110001   30385 598\n",
            "  15 111011010110010   30386 599\n",
            "  15 111011010110011   30387 600\n",
            "  15 111011010110100   30388 601\n",
            "  15 111011010110101   30389 602\n",
            "  15 111011010110110   30390 603\n",
            "  15 111011010110111   30391 604\n",
            "  15 111011010111000   30392 605\n",
            "  15 111011010111001   30393 606\n",
            "  15 111011010111010   30394 607\n",
            "  15 111011010111011   30395 608\n",
            "  15 111011010111100   30396 609\n",
            "  15 111011010111101   30397 610\n",
            "  15 111011010111110   30398 611\n",
            "  15 111011010111111   30399 612\n",
            "   9 111011011           475 44\n",
            "  15 111011100000000   30464 613\n",
            "  15 111011100000001   30465 614\n",
            "  15 111011100000010   30466 615\n",
            "  15 111011100000011   30467 616\n",
            "  15 111011100000100   30468 617\n",
            "  15 111011100000101   30469 618\n",
            "  15 111011100000110   30470 619\n",
            "  15 111011100000111   30471 620\n",
            "  15 111011100001000   30472 621\n",
            "  15 111011100001001   30473 622\n",
            "  15 111011100001010   30474 623\n",
            "  15 111011100001011   30475 624\n",
            "  15 111011100001100   30476 625\n",
            "  15 111011100001101   30477 626\n",
            "  15 111011100001110   30478 627\n",
            "  15 111011100001111   30479 628\n",
            "  15 111011100010000   30480 629\n",
            "  16 1110111000100010  60962 713\n",
            "  16 1110111000100011  60963 714\n",
            "  16 1110111000100100  60964 715\n",
            "  16 1110111000100101  60965 716\n",
            "  16 1110111000100110  60966 717\n",
            "  16 1110111000100111  60967 718\n",
            "  16 1110111000101000  60968 719\n",
            "  16 1110111000101001  60969 720\n",
            "  16 1110111000101010  60970 721\n",
            "  16 1110111000101011  60971 722\n",
            "  16 1110111000101100  60972 723\n",
            "  16 1110111000101101  60973 724\n",
            "  16 1110111000101110  60974 725\n",
            "  16 1110111000101111  60975 726\n",
            "  16 1110111000110000  60976 727\n",
            "  16 1110111000110001  60977 728\n",
            "  16 1110111000110010  60978 729\n",
            "  16 1110111000110011  60979 730\n",
            "  16 1110111000110100  60980 731\n",
            "  16 1110111000110101  60981 732\n",
            "  16 1110111000110110  60982 733\n",
            "  16 1110111000110111  60983 734\n",
            "  16 1110111000111000  60984 735\n",
            "  16 1110111000111001  60985 736\n",
            "  16 1110111000111010  60986 737\n",
            "  16 1110111000111011  60987 738\n",
            "  16 1110111000111100  60988 739\n",
            "  16 1110111000111101  60989 740\n",
            "  16 1110111000111110  60990 741\n",
            "  16 1110111000111111  60991 742\n",
            "  16 1110111001000000  60992 743\n",
            "  16 1110111001000001  60993 744\n",
            "  16 1110111001000010  60994 745\n",
            "  16 1110111001000011  60995 746\n",
            "  16 1110111001000100  60996 747\n",
            "  16 1110111001000101  60997 748\n",
            "  16 1110111001000110  60998 749\n",
            "  16 1110111001000111  60999 750\n",
            "  16 1110111001001000  61000 751\n",
            "  16 1110111001001001  61001 752\n",
            "  16 1110111001001010  61002 753\n",
            "  16 1110111001001011  61003 754\n",
            "  16 1110111001001100  61004 755\n",
            "  16 1110111001001101  61005 756\n",
            "  16 1110111001001110  61006 757\n",
            "  16 1110111001001111  61007 758\n",
            "  16 1110111001010000  61008 759\n",
            "  16 1110111001010001  61009 760\n",
            "  16 1110111001010010  61010 761\n",
            "  16 1110111001010011  61011 762\n",
            "  16 1110111001010100  61012 763\n",
            "  16 1110111001010101  61013 764\n",
            "  16 1110111001010110  61014 765\n",
            "  16 1110111001010111  61015 766\n",
            "  16 1110111001011000  61016 767\n",
            "  16 1110111001011001  61017 768\n",
            "  16 1110111001011010  61018 769\n",
            "  16 1110111001011011  61019 770\n",
            "  16 1110111001011100  61020 771\n",
            "  16 1110111001011101  61021 772\n",
            "  16 1110111001011110  61022 773\n",
            "  16 1110111001011111  61023 774\n",
            "  11 11101110011        1907 123\n",
            "  10 1110111010          954 75\n",
            "  11 11101110110        1910 124\n",
            "  11 11101110111        1911 122\n",
            "   8 11101111            239 26\n",
            "   5 11110                30 4\n",
            "  12 111110000000       3968 206\n",
            "  12 111110000001       3969 207\n",
            "  12 111110000010       3970 208\n",
            "  12 111110000011       3971 209\n",
            "  10 1111100001          993 74\n",
            "  11 11111000100        1988 121\n",
            "  11 11111000101        1989 120\n",
            "  10 1111100011          995 73\n",
            "   9 111110010           498 43\n",
            "  12 111110011000       3992 204\n",
            "  12 111110011001       3993 205\n",
            "  11 11111001101        1997 119\n",
            "  10 1111100111          999 72\n",
            "   7 1111101             125 14\n",
            "   8 11111100            252 25\n",
            "  11 11111101000        2024 118\n",
            "  12 111111010010       4050 202\n",
            "  12 111111010011       4051 203\n",
            "  13 1111110101000      8104 278\n",
            "  13 1111110101001      8105 276\n",
            "  12 111111010101       4053 194\n",
            "  11 11111101011        2027 117\n",
            "   9 111111011           507 42\n",
            "  12 111111100000       4064 195\n",
            "  12 111111100001       4065 196\n",
            "  12 111111100010       4066 197\n",
            "  12 111111100011       4067 198\n",
            "  12 111111100100       4068 199\n",
            "  12 111111100101       4069 200\n",
            "  12 111111100110       4070 201\n",
            "  13 1111111001110      8142 277\n",
            "  14 11111110011110    16286 390\n",
            "  14 11111110011111    16287 391\n",
            "  11 11111110100        2036 116\n",
            "  11 11111110101        2037 115\n",
            "  10 1111111011         1019 71\n",
            "   8 11111111            255 24\n"
          ]
        }
      ]
    },
    {
      "cell_type": "code",
      "source": [
        "guesses_encoded = guesses_codec.encode(guesses_space)\n",
        "guesses_decoded = guesses_codec.decode(guesses_encoded)\n",
        "assert guesses_decoded == guesses_space"
      ],
      "metadata": {
        "id": "KM-BsDSIneeT"
      },
      "id": "KM-BsDSIneeT",
      "execution_count": 59,
      "outputs": []
    },
    {
      "cell_type": "code",
      "source": [
        "num_of_letters = len(text_simplified)\n",
        "bits_per_num_of_letters =  8 *(guesses_encoded.__sizeof__() / num_of_letters)\n",
        "print(\"Average bits per letter: \", round(bits_per_num_of_letters, 3))"
      ],
      "metadata": {
        "colab": {
          "base_uri": "https://localhost:8080/"
        },
        "id": "T7n95rG8ct3K",
        "outputId": "3c2c7dd0-1aa2-4f2d-d0fd-041ec71534c6"
      },
      "id": "T7n95rG8ct3K",
      "execution_count": 60,
      "outputs": [
        {
          "output_type": "stream",
          "name": "stdout",
          "text": [
            "Average bits per letter:  1.106\n"
          ]
        }
      ]
    },
    {
      "cell_type": "markdown",
      "source": [
        "**Average number of bits per letter is: 1.106**"
      ],
      "metadata": {
        "id": "a3um19C6gD1l"
      },
      "id": "a3um19C6gD1l"
    },
    {
      "cell_type": "code",
      "source": [],
      "metadata": {
        "id": "fwUgYtC8eT5H"
      },
      "id": "fwUgYtC8eT5H",
      "execution_count": 60,
      "outputs": []
    }
  ],
  "metadata": {
    "kernelspec": {
      "display_name": "Python 3",
      "language": "python",
      "name": "python3"
    },
    "language_info": {
      "codemirror_mode": {
        "name": "ipython",
        "version": 3
      },
      "file_extension": ".py",
      "mimetype": "text/x-python",
      "name": "python",
      "nbconvert_exporter": "python",
      "pygments_lexer": "ipython3",
      "version": "3.8.5"
    },
    "colab": {
      "provenance": []
    }
  },
  "nbformat": 4,
  "nbformat_minor": 5
}